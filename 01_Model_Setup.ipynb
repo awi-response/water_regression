{
 "cells": [
  {
   "cell_type": "markdown",
   "metadata": {},
   "source": [
    "# Description \n",
    "\n",
    "#### Pycaret documentation\n",
    "https://pycaret.org/regression/"
   ]
  },
  {
   "cell_type": "markdown",
   "metadata": {},
   "source": [
    "#### Run inconda env pycaret2_alex"
   ]
  },
  {
   "cell_type": "markdown",
   "metadata": {},
   "source": [
    "### ToDo\n",
    "1. annual cross-validation - automated scores to compare metrics\n",
    "2. test full dataset for individual pixels"
   ]
  },
  {
   "cell_type": "code",
   "execution_count": null,
   "metadata": {},
   "outputs": [],
   "source": []
  },
  {
   "cell_type": "markdown",
   "metadata": {},
   "source": [
    "## Imports "
   ]
  },
  {
   "cell_type": "code",
   "execution_count": 11,
   "metadata": {},
   "outputs": [],
   "source": [
    "#import regression module \n",
    "from pycaret.regression import * \n",
    "\n",
    "import pandas as pd\n",
    "%config Completer.use_jedi = False"
   ]
  },
  {
   "cell_type": "code",
   "execution_count": 64,
   "metadata": {},
   "outputs": [],
   "source": [
    "import matplotlib.pyplot as plt\n",
    "from sklearn import metrics"
   ]
  },
  {
   "cell_type": "markdown",
   "metadata": {},
   "source": [
    "## Setting and Setup"
   ]
  },
  {
   "cell_type": "markdown",
   "metadata": {},
   "source": [
    "#### Data "
   ]
  },
  {
   "cell_type": "code",
   "execution_count": 2,
   "metadata": {},
   "outputs": [],
   "source": [
    "PATH_DATA = r'data/INSITU_vs_SAT.csv'"
   ]
  },
  {
   "cell_type": "markdown",
   "metadata": {},
   "source": [
    "#### Regression "
   ]
  },
  {
   "cell_type": "code",
   "execution_count": 142,
   "metadata": {},
   "outputs": [],
   "source": [
    "TARGET = 'a350'\n",
    "DATA_COLS = ['time', 'Rw400', 'Rw412', 'Rw443', 'Rw490', 'Rw510', 'Rw560',\n",
    "       'Rw620', 'Rw665', 'Rw674', 'Rw681', 'Rw709', 'Rw754', 'Rw779', 'Rw865',\n",
    "       'Rw1020']"
   ]
  },
  {
   "cell_type": "markdown",
   "metadata": {},
   "source": [
    "## Data Loading and preprocessing "
   ]
  },
  {
   "cell_type": "code",
   "execution_count": 143,
   "metadata": {},
   "outputs": [],
   "source": [
    "df = pd.read_csv(PATH_DATA)"
   ]
  },
  {
   "cell_type": "code",
   "execution_count": 144,
   "metadata": {},
   "outputs": [
    {
     "data": {
      "text/html": [
       "<div>\n",
       "<style scoped>\n",
       "    .dataframe tbody tr th:only-of-type {\n",
       "        vertical-align: middle;\n",
       "    }\n",
       "\n",
       "    .dataframe tbody tr th {\n",
       "        vertical-align: top;\n",
       "    }\n",
       "\n",
       "    .dataframe thead th {\n",
       "        text-align: right;\n",
       "    }\n",
       "</style>\n",
       "<table border=\"1\" class=\"dataframe\">\n",
       "  <thead>\n",
       "    <tr style=\"text-align: right;\">\n",
       "      <th></th>\n",
       "      <th>time</th>\n",
       "      <th>n</th>\n",
       "      <th>Rw400</th>\n",
       "      <th>Rw412</th>\n",
       "      <th>Rw443</th>\n",
       "      <th>Rw490</th>\n",
       "      <th>Rw510</th>\n",
       "      <th>Rw560</th>\n",
       "      <th>Rw620</th>\n",
       "      <th>Rw665</th>\n",
       "      <th>...</th>\n",
       "      <th>Rw754</th>\n",
       "      <th>Rw779</th>\n",
       "      <th>Rw865</th>\n",
       "      <th>Rw1020</th>\n",
       "      <th>ratio</th>\n",
       "      <th>cdom440</th>\n",
       "      <th>cdom375</th>\n",
       "      <th>a254</th>\n",
       "      <th>a350</th>\n",
       "      <th>a443</th>\n",
       "    </tr>\n",
       "  </thead>\n",
       "  <tbody>\n",
       "    <tr>\n",
       "      <th>0</th>\n",
       "      <td>2018-05-30</td>\n",
       "      <td>20</td>\n",
       "      <td>0.010117</td>\n",
       "      <td>0.007851</td>\n",
       "      <td>0.009023</td>\n",
       "      <td>0.011803</td>\n",
       "      <td>0.015951</td>\n",
       "      <td>0.035293</td>\n",
       "      <td>0.032618</td>\n",
       "      <td>0.027384</td>\n",
       "      <td>...</td>\n",
       "      <td>0.012502</td>\n",
       "      <td>0.010208</td>\n",
       "      <td>0.005799</td>\n",
       "      <td>0.001353</td>\n",
       "      <td>2.639883</td>\n",
       "      <td>0.005973</td>\n",
       "      <td>-0.022636</td>\n",
       "      <td>57.289490</td>\n",
       "      <td>14.757243</td>\n",
       "      <td>3.633730</td>\n",
       "    </tr>\n",
       "    <tr>\n",
       "      <th>1</th>\n",
       "      <td>2018-05-31</td>\n",
       "      <td>37</td>\n",
       "      <td>0.004514</td>\n",
       "      <td>0.004369</td>\n",
       "      <td>0.004935</td>\n",
       "      <td>0.006927</td>\n",
       "      <td>0.009673</td>\n",
       "      <td>0.018504</td>\n",
       "      <td>0.021040</td>\n",
       "      <td>0.023322</td>\n",
       "      <td>...</td>\n",
       "      <td>0.012732</td>\n",
       "      <td>0.012021</td>\n",
       "      <td>0.007698</td>\n",
       "      <td>0.010300</td>\n",
       "      <td>3.422013</td>\n",
       "      <td>0.020040</td>\n",
       "      <td>0.040916</td>\n",
       "      <td>65.533020</td>\n",
       "      <td>17.227237</td>\n",
       "      <td>4.391385</td>\n",
       "    </tr>\n",
       "    <tr>\n",
       "      <th>2</th>\n",
       "      <td>2018-06-01</td>\n",
       "      <td>54</td>\n",
       "      <td>0.002090</td>\n",
       "      <td>0.002488</td>\n",
       "      <td>0.004565</td>\n",
       "      <td>0.006881</td>\n",
       "      <td>0.009211</td>\n",
       "      <td>0.017073</td>\n",
       "      <td>0.022303</td>\n",
       "      <td>0.025289</td>\n",
       "      <td>...</td>\n",
       "      <td>0.014699</td>\n",
       "      <td>0.013754</td>\n",
       "      <td>0.008828</td>\n",
       "      <td>0.011552</td>\n",
       "      <td>3.677898</td>\n",
       "      <td>0.021601</td>\n",
       "      <td>0.048001</td>\n",
       "      <td>73.776550</td>\n",
       "      <td>19.697230</td>\n",
       "      <td>5.149040</td>\n",
       "    </tr>\n",
       "    <tr>\n",
       "      <th>3</th>\n",
       "      <td>2018-06-03</td>\n",
       "      <td>36</td>\n",
       "      <td>0.002980</td>\n",
       "      <td>0.003100</td>\n",
       "      <td>0.005143</td>\n",
       "      <td>0.006235</td>\n",
       "      <td>0.008854</td>\n",
       "      <td>0.017334</td>\n",
       "      <td>0.024193</td>\n",
       "      <td>0.029256</td>\n",
       "      <td>...</td>\n",
       "      <td>0.020082</td>\n",
       "      <td>0.019581</td>\n",
       "      <td>0.014587</td>\n",
       "      <td>0.022014</td>\n",
       "      <td>4.312529</td>\n",
       "      <td>0.025584</td>\n",
       "      <td>0.065802</td>\n",
       "      <td>106.558525</td>\n",
       "      <td>28.445500</td>\n",
       "      <td>7.063755</td>\n",
       "    </tr>\n",
       "    <tr>\n",
       "      <th>4</th>\n",
       "      <td>2018-06-04</td>\n",
       "      <td>8</td>\n",
       "      <td>0.000987</td>\n",
       "      <td>-0.000062</td>\n",
       "      <td>0.004218</td>\n",
       "      <td>0.010010</td>\n",
       "      <td>0.014556</td>\n",
       "      <td>0.025882</td>\n",
       "      <td>0.038078</td>\n",
       "      <td>0.045455</td>\n",
       "      <td>...</td>\n",
       "      <td>0.049468</td>\n",
       "      <td>0.047743</td>\n",
       "      <td>0.049196</td>\n",
       "      <td>0.050280</td>\n",
       "      <td>4.541117</td>\n",
       "      <td>0.026205</td>\n",
       "      <td>0.068659</td>\n",
       "      <td>122.949512</td>\n",
       "      <td>32.819635</td>\n",
       "      <td>8.021113</td>\n",
       "    </tr>\n",
       "  </tbody>\n",
       "</table>\n",
       "<p>5 rows × 23 columns</p>\n",
       "</div>"
      ],
      "text/plain": [
       "         time   n     Rw400     Rw412     Rw443     Rw490     Rw510     Rw560  \\\n",
       "0  2018-05-30  20  0.010117  0.007851  0.009023  0.011803  0.015951  0.035293   \n",
       "1  2018-05-31  37  0.004514  0.004369  0.004935  0.006927  0.009673  0.018504   \n",
       "2  2018-06-01  54  0.002090  0.002488  0.004565  0.006881  0.009211  0.017073   \n",
       "3  2018-06-03  36  0.002980  0.003100  0.005143  0.006235  0.008854  0.017334   \n",
       "4  2018-06-04   8  0.000987 -0.000062  0.004218  0.010010  0.014556  0.025882   \n",
       "\n",
       "      Rw620     Rw665  ...     Rw754     Rw779     Rw865    Rw1020     ratio  \\\n",
       "0  0.032618  0.027384  ...  0.012502  0.010208  0.005799  0.001353  2.639883   \n",
       "1  0.021040  0.023322  ...  0.012732  0.012021  0.007698  0.010300  3.422013   \n",
       "2  0.022303  0.025289  ...  0.014699  0.013754  0.008828  0.011552  3.677898   \n",
       "3  0.024193  0.029256  ...  0.020082  0.019581  0.014587  0.022014  4.312529   \n",
       "4  0.038078  0.045455  ...  0.049468  0.047743  0.049196  0.050280  4.541117   \n",
       "\n",
       "    cdom440   cdom375        a254       a350      a443  \n",
       "0  0.005973 -0.022636   57.289490  14.757243  3.633730  \n",
       "1  0.020040  0.040916   65.533020  17.227237  4.391385  \n",
       "2  0.021601  0.048001   73.776550  19.697230  5.149040  \n",
       "3  0.025584  0.065802  106.558525  28.445500  7.063755  \n",
       "4  0.026205  0.068659  122.949512  32.819635  8.021113  \n",
       "\n",
       "[5 rows x 23 columns]"
      ]
     },
     "execution_count": 144,
     "metadata": {},
     "output_type": "execute_result"
    }
   ],
   "source": [
    "df.head()"
   ]
  },
  {
   "cell_type": "code",
   "execution_count": 145,
   "metadata": {},
   "outputs": [
    {
     "data": {
      "text/plain": [
       "Index(['time', 'n', 'Rw400', 'Rw412', 'Rw443', 'Rw490', 'Rw510', 'Rw560',\n",
       "       'Rw620', 'Rw665', 'Rw674', 'Rw681', 'Rw709', 'Rw754', 'Rw779', 'Rw865',\n",
       "       'Rw1020', 'ratio', 'cdom440', 'cdom375', 'a254', 'a350', 'a443'],\n",
       "      dtype='object')"
      ]
     },
     "execution_count": 145,
     "metadata": {},
     "output_type": "execute_result"
    }
   ],
   "source": [
    "df.columns"
   ]
  },
  {
   "cell_type": "markdown",
   "metadata": {},
   "source": [
    "#### Adapt datatypes"
   ]
  },
  {
   "cell_type": "code",
   "execution_count": 146,
   "metadata": {},
   "outputs": [],
   "source": [
    "df.time = pd.to_datetime(df.time)"
   ]
  },
  {
   "cell_type": "markdown",
   "metadata": {},
   "source": [
    "## Model comparison \n",
    "model setup - ET often best/one of best models\n",
    "  -  to be tested on hold_out set"
   ]
  },
  {
   "cell_type": "code",
   "execution_count": 270,
   "metadata": {},
   "outputs": [],
   "source": [
    "val_year = 2020\n",
    "df_filt = (df.query('n > 0')[DATA_COLS + [TARGET]]).dropna()\n",
    "df_train = df_filt[df.time.dt.year !=val_year]\n",
    "df_val = df_filt[df.time.dt.year ==val_year]"
   ]
  },
  {
   "cell_type": "code",
   "execution_count": 277,
   "metadata": {},
   "outputs": [],
   "source": [
    "experiment = setup(df_train, target=TARGET, \n",
    "                   remove_multicollinearity=False, \n",
    "                   fold_strategy='timeseries', \n",
    "                   date_features=['time'],\n",
    "                   transformation=False,\n",
    "                   remove_outliers=False, \n",
    "                   silent=True,\n",
    "                   normalize=False,\n",
    "                   pca=False,\n",
    "                   verbose=False)"
   ]
  },
  {
   "cell_type": "code",
   "execution_count": 294,
   "metadata": {},
   "outputs": [
    {
     "data": {
      "application/vnd.jupyter.widget-view+json": {
       "model_id": "d44eab937faa4f1a9edbae0657d1e159",
       "version_major": 2,
       "version_minor": 0
      },
      "text/plain": [
       "IntProgress(value=0, description='Processing: ', max=89)"
      ]
     },
     "metadata": {},
     "output_type": "display_data"
    },
    {
     "data": {
      "text/html": [
       "<div>\n",
       "<style scoped>\n",
       "    .dataframe tbody tr th:only-of-type {\n",
       "        vertical-align: middle;\n",
       "    }\n",
       "\n",
       "    .dataframe tbody tr th {\n",
       "        vertical-align: top;\n",
       "    }\n",
       "\n",
       "    .dataframe thead th {\n",
       "        text-align: right;\n",
       "    }\n",
       "</style>\n",
       "<table border=\"1\" class=\"dataframe\">\n",
       "  <thead>\n",
       "    <tr style=\"text-align: right;\">\n",
       "      <th></th>\n",
       "      <th></th>\n",
       "      <th></th>\n",
       "    </tr>\n",
       "    <tr>\n",
       "      <th></th>\n",
       "      <th></th>\n",
       "      <th></th>\n",
       "    </tr>\n",
       "  </thead>\n",
       "  <tbody>\n",
       "    <tr>\n",
       "      <th>Initiated</th>\n",
       "      <td>. . . . . . . . . . . . . . . . . .</td>\n",
       "      <td>19:37:01</td>\n",
       "    </tr>\n",
       "    <tr>\n",
       "      <th>Status</th>\n",
       "      <td>. . . . . . . . . . . . . . . . . .</td>\n",
       "      <td>Compiling Final Models</td>\n",
       "    </tr>\n",
       "    <tr>\n",
       "      <th>Estimator</th>\n",
       "      <td>. . . . . . . . . . . . . . . . . .</td>\n",
       "      <td>Huber Regressor</td>\n",
       "    </tr>\n",
       "  </tbody>\n",
       "</table>\n",
       "</div>"
      ],
      "text/plain": [
       "                                                                      \n",
       "                                                                      \n",
       "Initiated  . . . . . . . . . . . . . . . . . .                19:37:01\n",
       "Status     . . . . . . . . . . . . . . . . . .  Compiling Final Models\n",
       "Estimator  . . . . . . . . . . . . . . . . . .         Huber Regressor"
      ]
     },
     "metadata": {},
     "output_type": "display_data"
    },
    {
     "data": {
      "text/html": [
       "<style  type=\"text/css\" >\n",
       "    #T_aba22_ th {\n",
       "          text-align: left;\n",
       "    }#T_aba22_row0_col0,#T_aba22_row0_col1,#T_aba22_row0_col2,#T_aba22_row0_col3,#T_aba22_row0_col4,#T_aba22_row0_col5,#T_aba22_row0_col6,#T_aba22_row0_col7,#T_aba22_row1_col0,#T_aba22_row1_col1,#T_aba22_row1_col2,#T_aba22_row1_col3,#T_aba22_row1_col4,#T_aba22_row1_col5,#T_aba22_row1_col6,#T_aba22_row1_col7,#T_aba22_row2_col0,#T_aba22_row2_col1,#T_aba22_row2_col2,#T_aba22_row2_col3,#T_aba22_row2_col4,#T_aba22_row2_col5,#T_aba22_row2_col6,#T_aba22_row2_col7,#T_aba22_row3_col0,#T_aba22_row3_col1,#T_aba22_row3_col2,#T_aba22_row3_col3,#T_aba22_row3_col4,#T_aba22_row3_col5,#T_aba22_row3_col6,#T_aba22_row3_col7,#T_aba22_row4_col0,#T_aba22_row4_col1,#T_aba22_row4_col2,#T_aba22_row4_col3,#T_aba22_row4_col4,#T_aba22_row4_col5,#T_aba22_row4_col6,#T_aba22_row4_col7,#T_aba22_row5_col0,#T_aba22_row5_col1,#T_aba22_row5_col2,#T_aba22_row5_col3,#T_aba22_row5_col4,#T_aba22_row5_col5,#T_aba22_row5_col6,#T_aba22_row5_col7,#T_aba22_row6_col0,#T_aba22_row6_col1,#T_aba22_row6_col2,#T_aba22_row6_col3,#T_aba22_row6_col4,#T_aba22_row6_col5,#T_aba22_row6_col6,#T_aba22_row6_col7,#T_aba22_row7_col0,#T_aba22_row7_col1,#T_aba22_row7_col2,#T_aba22_row7_col3,#T_aba22_row7_col4,#T_aba22_row7_col5,#T_aba22_row7_col6,#T_aba22_row7_col7,#T_aba22_row8_col0,#T_aba22_row8_col1,#T_aba22_row8_col2,#T_aba22_row8_col3,#T_aba22_row8_col4,#T_aba22_row8_col5,#T_aba22_row8_col6,#T_aba22_row8_col7,#T_aba22_row9_col0,#T_aba22_row9_col1,#T_aba22_row9_col2,#T_aba22_row9_col3,#T_aba22_row9_col4,#T_aba22_row9_col5,#T_aba22_row9_col6,#T_aba22_row9_col7,#T_aba22_row10_col0,#T_aba22_row10_col1,#T_aba22_row10_col2,#T_aba22_row10_col3,#T_aba22_row10_col4,#T_aba22_row10_col5,#T_aba22_row10_col6,#T_aba22_row10_col7,#T_aba22_row11_col0,#T_aba22_row11_col1,#T_aba22_row11_col2,#T_aba22_row11_col3,#T_aba22_row11_col4,#T_aba22_row11_col5,#T_aba22_row11_col6,#T_aba22_row11_col7,#T_aba22_row12_col0,#T_aba22_row12_col1,#T_aba22_row12_col2,#T_aba22_row12_col3,#T_aba22_row12_col4,#T_aba22_row12_col5,#T_aba22_row12_col6,#T_aba22_row12_col7,#T_aba22_row13_col0,#T_aba22_row13_col1,#T_aba22_row13_col2,#T_aba22_row13_col3,#T_aba22_row13_col4,#T_aba22_row13_col5,#T_aba22_row13_col6,#T_aba22_row13_col7,#T_aba22_row14_col0,#T_aba22_row14_col1,#T_aba22_row14_col2,#T_aba22_row14_col3,#T_aba22_row14_col4,#T_aba22_row14_col5,#T_aba22_row14_col6,#T_aba22_row14_col7,#T_aba22_row15_col0,#T_aba22_row15_col1,#T_aba22_row15_col2,#T_aba22_row15_col3,#T_aba22_row15_col4,#T_aba22_row15_col5,#T_aba22_row15_col6,#T_aba22_row15_col7,#T_aba22_row16_col0,#T_aba22_row16_col1,#T_aba22_row16_col2,#T_aba22_row16_col3,#T_aba22_row16_col4,#T_aba22_row16_col5,#T_aba22_row16_col6,#T_aba22_row16_col7{\n",
       "            text-align:  left;\n",
       "        }</style><table id=\"T_aba22_\" ><thead>    <tr>        <th class=\"blank level0\" ></th>        <th class=\"col_heading level0 col0\" >Model</th>        <th class=\"col_heading level0 col1\" >MAE</th>        <th class=\"col_heading level0 col2\" >MSE</th>        <th class=\"col_heading level0 col3\" >RMSE</th>        <th class=\"col_heading level0 col4\" >R2</th>        <th class=\"col_heading level0 col5\" >RMSLE</th>        <th class=\"col_heading level0 col6\" >MAPE</th>        <th class=\"col_heading level0 col7\" >TT (Sec)</th>    </tr></thead><tbody>\n",
       "                <tr>\n",
       "                        <th id=\"T_aba22_level0_row0\" class=\"row_heading level0 row0\" >huber</th>\n",
       "                        <td id=\"T_aba22_row0_col0\" class=\"data row0 col0\" >Huber Regressor</td>\n",
       "                        <td id=\"T_aba22_row0_col1\" class=\"data row0 col1\" >0.6559</td>\n",
       "                        <td id=\"T_aba22_row0_col2\" class=\"data row0 col2\" >7.1545</td>\n",
       "                        <td id=\"T_aba22_row0_col3\" class=\"data row0 col3\" >0.8458</td>\n",
       "                        <td id=\"T_aba22_row0_col4\" class=\"data row0 col4\" >0.0403</td>\n",
       "                        <td id=\"T_aba22_row0_col5\" class=\"data row0 col5\" >0.0465</td>\n",
       "                        <td id=\"T_aba22_row0_col6\" class=\"data row0 col6\" >0.0482</td>\n",
       "                        <td id=\"T_aba22_row0_col7\" class=\"data row0 col7\" >0.0180</td>\n",
       "            </tr>\n",
       "            <tr>\n",
       "                        <th id=\"T_aba22_level0_row1\" class=\"row_heading level0 row1\" >gbr</th>\n",
       "                        <td id=\"T_aba22_row1_col0\" class=\"data row1 col0\" >Gradient Boosting Regressor</td>\n",
       "                        <td id=\"T_aba22_row1_col1\" class=\"data row1 col1\" >2.8780</td>\n",
       "                        <td id=\"T_aba22_row1_col2\" class=\"data row1 col2\" >15.8419</td>\n",
       "                        <td id=\"T_aba22_row1_col3\" class=\"data row1 col3\" >3.6641</td>\n",
       "                        <td id=\"T_aba22_row1_col4\" class=\"data row1 col4\" >0.8083</td>\n",
       "                        <td id=\"T_aba22_row1_col5\" class=\"data row1 col5\" >0.1977</td>\n",
       "                        <td id=\"T_aba22_row1_col6\" class=\"data row1 col6\" >0.1804</td>\n",
       "                        <td id=\"T_aba22_row1_col7\" class=\"data row1 col7\" >0.0190</td>\n",
       "            </tr>\n",
       "            <tr>\n",
       "                        <th id=\"T_aba22_level0_row2\" class=\"row_heading level0 row2\" >rf</th>\n",
       "                        <td id=\"T_aba22_row2_col0\" class=\"data row2 col0\" >Random Forest Regressor</td>\n",
       "                        <td id=\"T_aba22_row2_col1\" class=\"data row2 col1\" >3.0502</td>\n",
       "                        <td id=\"T_aba22_row2_col2\" class=\"data row2 col2\" >18.4341</td>\n",
       "                        <td id=\"T_aba22_row2_col3\" class=\"data row2 col3\" >3.8675</td>\n",
       "                        <td id=\"T_aba22_row2_col4\" class=\"data row2 col4\" >0.7845</td>\n",
       "                        <td id=\"T_aba22_row2_col5\" class=\"data row2 col5\" >0.2114</td>\n",
       "                        <td id=\"T_aba22_row2_col6\" class=\"data row2 col6\" >0.1973</td>\n",
       "                        <td id=\"T_aba22_row2_col7\" class=\"data row2 col7\" >0.1170</td>\n",
       "            </tr>\n",
       "            <tr>\n",
       "                        <th id=\"T_aba22_level0_row3\" class=\"row_heading level0 row3\" >et</th>\n",
       "                        <td id=\"T_aba22_row3_col0\" class=\"data row3 col0\" >Extra Trees Regressor</td>\n",
       "                        <td id=\"T_aba22_row3_col1\" class=\"data row3 col1\" >3.0688</td>\n",
       "                        <td id=\"T_aba22_row3_col2\" class=\"data row3 col2\" >19.4218</td>\n",
       "                        <td id=\"T_aba22_row3_col3\" class=\"data row3 col3\" >3.9656</td>\n",
       "                        <td id=\"T_aba22_row3_col4\" class=\"data row3 col4\" >0.7606</td>\n",
       "                        <td id=\"T_aba22_row3_col5\" class=\"data row3 col5\" >0.2023</td>\n",
       "                        <td id=\"T_aba22_row3_col6\" class=\"data row3 col6\" >0.1782</td>\n",
       "                        <td id=\"T_aba22_row3_col7\" class=\"data row3 col7\" >0.1120</td>\n",
       "            </tr>\n",
       "            <tr>\n",
       "                        <th id=\"T_aba22_level0_row4\" class=\"row_heading level0 row4\" >ada</th>\n",
       "                        <td id=\"T_aba22_row4_col0\" class=\"data row4 col0\" >AdaBoost Regressor</td>\n",
       "                        <td id=\"T_aba22_row4_col1\" class=\"data row4 col1\" >3.1743</td>\n",
       "                        <td id=\"T_aba22_row4_col2\" class=\"data row4 col2\" >20.3630</td>\n",
       "                        <td id=\"T_aba22_row4_col3\" class=\"data row4 col3\" >4.1010</td>\n",
       "                        <td id=\"T_aba22_row4_col4\" class=\"data row4 col4\" >0.7626</td>\n",
       "                        <td id=\"T_aba22_row4_col5\" class=\"data row4 col5\" >0.2131</td>\n",
       "                        <td id=\"T_aba22_row4_col6\" class=\"data row4 col6\" >0.1954</td>\n",
       "                        <td id=\"T_aba22_row4_col7\" class=\"data row4 col7\" >0.0230</td>\n",
       "            </tr>\n",
       "            <tr>\n",
       "                        <th id=\"T_aba22_level0_row5\" class=\"row_heading level0 row5\" >ridge</th>\n",
       "                        <td id=\"T_aba22_row5_col0\" class=\"data row5 col0\" >Ridge Regression</td>\n",
       "                        <td id=\"T_aba22_row5_col1\" class=\"data row5 col1\" >3.6071</td>\n",
       "                        <td id=\"T_aba22_row5_col2\" class=\"data row5 col2\" >21.3945</td>\n",
       "                        <td id=\"T_aba22_row5_col3\" class=\"data row5 col3\" >4.3471</td>\n",
       "                        <td id=\"T_aba22_row5_col4\" class=\"data row5 col4\" >0.7512</td>\n",
       "                        <td id=\"T_aba22_row5_col5\" class=\"data row5 col5\" >0.2455</td>\n",
       "                        <td id=\"T_aba22_row5_col6\" class=\"data row5 col6\" >0.2367</td>\n",
       "                        <td id=\"T_aba22_row5_col7\" class=\"data row5 col7\" >0.0140</td>\n",
       "            </tr>\n",
       "            <tr>\n",
       "                        <th id=\"T_aba22_level0_row6\" class=\"row_heading level0 row6\" >br</th>\n",
       "                        <td id=\"T_aba22_row6_col0\" class=\"data row6 col0\" >Bayesian Ridge</td>\n",
       "                        <td id=\"T_aba22_row6_col1\" class=\"data row6 col1\" >3.6645</td>\n",
       "                        <td id=\"T_aba22_row6_col2\" class=\"data row6 col2\" >23.3536</td>\n",
       "                        <td id=\"T_aba22_row6_col3\" class=\"data row6 col3\" >4.5154</td>\n",
       "                        <td id=\"T_aba22_row6_col4\" class=\"data row6 col4\" >0.7287</td>\n",
       "                        <td id=\"T_aba22_row6_col5\" class=\"data row6 col5\" >0.2746</td>\n",
       "                        <td id=\"T_aba22_row6_col6\" class=\"data row6 col6\" >0.2396</td>\n",
       "                        <td id=\"T_aba22_row6_col7\" class=\"data row6 col7\" >0.0100</td>\n",
       "            </tr>\n",
       "            <tr>\n",
       "                        <th id=\"T_aba22_level0_row7\" class=\"row_heading level0 row7\" >lasso</th>\n",
       "                        <td id=\"T_aba22_row7_col0\" class=\"data row7 col0\" >Lasso Regression</td>\n",
       "                        <td id=\"T_aba22_row7_col1\" class=\"data row7 col1\" >3.9379</td>\n",
       "                        <td id=\"T_aba22_row7_col2\" class=\"data row7 col2\" >21.1788</td>\n",
       "                        <td id=\"T_aba22_row7_col3\" class=\"data row7 col3\" >4.5301</td>\n",
       "                        <td id=\"T_aba22_row7_col4\" class=\"data row7 col4\" >0.7492</td>\n",
       "                        <td id=\"T_aba22_row7_col5\" class=\"data row7 col5\" >0.2678</td>\n",
       "                        <td id=\"T_aba22_row7_col6\" class=\"data row7 col6\" >0.2771</td>\n",
       "                        <td id=\"T_aba22_row7_col7\" class=\"data row7 col7\" >0.0130</td>\n",
       "            </tr>\n",
       "            <tr>\n",
       "                        <th id=\"T_aba22_level0_row8\" class=\"row_heading level0 row8\" >knn</th>\n",
       "                        <td id=\"T_aba22_row8_col0\" class=\"data row8 col0\" >K Neighbors Regressor</td>\n",
       "                        <td id=\"T_aba22_row8_col1\" class=\"data row8 col1\" >3.6466</td>\n",
       "                        <td id=\"T_aba22_row8_col2\" class=\"data row8 col2\" >24.0329</td>\n",
       "                        <td id=\"T_aba22_row8_col3\" class=\"data row8 col3\" >4.5394</td>\n",
       "                        <td id=\"T_aba22_row8_col4\" class=\"data row8 col4\" >0.7375</td>\n",
       "                        <td id=\"T_aba22_row8_col5\" class=\"data row8 col5\" >0.2676</td>\n",
       "                        <td id=\"T_aba22_row8_col6\" class=\"data row8 col6\" >0.2746</td>\n",
       "                        <td id=\"T_aba22_row8_col7\" class=\"data row8 col7\" >0.0270</td>\n",
       "            </tr>\n",
       "            <tr>\n",
       "                        <th id=\"T_aba22_level0_row9\" class=\"row_heading level0 row9\" >dt</th>\n",
       "                        <td id=\"T_aba22_row9_col0\" class=\"data row9 col0\" >Decision Tree Regressor</td>\n",
       "                        <td id=\"T_aba22_row9_col1\" class=\"data row9 col1\" >4.0127</td>\n",
       "                        <td id=\"T_aba22_row9_col2\" class=\"data row9 col2\" >28.7787</td>\n",
       "                        <td id=\"T_aba22_row9_col3\" class=\"data row9 col3\" >5.1085</td>\n",
       "                        <td id=\"T_aba22_row9_col4\" class=\"data row9 col4\" >0.6387</td>\n",
       "                        <td id=\"T_aba22_row9_col5\" class=\"data row9 col5\" >0.2869</td>\n",
       "                        <td id=\"T_aba22_row9_col6\" class=\"data row9 col6\" >0.2516</td>\n",
       "                        <td id=\"T_aba22_row9_col7\" class=\"data row9 col7\" >0.0120</td>\n",
       "            </tr>\n",
       "            <tr>\n",
       "                        <th id=\"T_aba22_level0_row10\" class=\"row_heading level0 row10\" >omp</th>\n",
       "                        <td id=\"T_aba22_row10_col0\" class=\"data row10 col0\" >Orthogonal Matching Pursuit</td>\n",
       "                        <td id=\"T_aba22_row10_col1\" class=\"data row10 col1\" >4.3226</td>\n",
       "                        <td id=\"T_aba22_row10_col2\" class=\"data row10 col2\" >49.3934</td>\n",
       "                        <td id=\"T_aba22_row10_col3\" class=\"data row10 col3\" >5.6754</td>\n",
       "                        <td id=\"T_aba22_row10_col4\" class=\"data row10 col4\" >0.5118</td>\n",
       "                        <td id=\"T_aba22_row10_col5\" class=\"data row10 col5\" >0.3083</td>\n",
       "                        <td id=\"T_aba22_row10_col6\" class=\"data row10 col6\" >0.2695</td>\n",
       "                        <td id=\"T_aba22_row10_col7\" class=\"data row10 col7\" >0.0110</td>\n",
       "            </tr>\n",
       "            <tr>\n",
       "                        <th id=\"T_aba22_level0_row11\" class=\"row_heading level0 row11\" >par</th>\n",
       "                        <td id=\"T_aba22_row11_col0\" class=\"data row11 col0\" >Passive Aggressive Regressor</td>\n",
       "                        <td id=\"T_aba22_row11_col1\" class=\"data row11 col1\" >4.7163</td>\n",
       "                        <td id=\"T_aba22_row11_col2\" class=\"data row11 col2\" >38.5759</td>\n",
       "                        <td id=\"T_aba22_row11_col3\" class=\"data row11 col3\" >5.7782</td>\n",
       "                        <td id=\"T_aba22_row11_col4\" class=\"data row11 col4\" >0.5698</td>\n",
       "                        <td id=\"T_aba22_row11_col5\" class=\"data row11 col5\" >0.3606</td>\n",
       "                        <td id=\"T_aba22_row11_col6\" class=\"data row11 col6\" >0.3015</td>\n",
       "                        <td id=\"T_aba22_row11_col7\" class=\"data row11 col7\" >0.0110</td>\n",
       "            </tr>\n",
       "            <tr>\n",
       "                        <th id=\"T_aba22_level0_row12\" class=\"row_heading level0 row12\" >lightgbm</th>\n",
       "                        <td id=\"T_aba22_row12_col0\" class=\"data row12 col0\" >Light Gradient Boosting Machine</td>\n",
       "                        <td id=\"T_aba22_row12_col1\" class=\"data row12 col1\" >5.0032</td>\n",
       "                        <td id=\"T_aba22_row12_col2\" class=\"data row12 col2\" >45.9307</td>\n",
       "                        <td id=\"T_aba22_row12_col3\" class=\"data row12 col3\" >5.9855</td>\n",
       "                        <td id=\"T_aba22_row12_col4\" class=\"data row12 col4\" >0.5152</td>\n",
       "                        <td id=\"T_aba22_row12_col5\" class=\"data row12 col5\" >0.3195</td>\n",
       "                        <td id=\"T_aba22_row12_col6\" class=\"data row12 col6\" >0.3410</td>\n",
       "                        <td id=\"T_aba22_row12_col7\" class=\"data row12 col7\" >0.0150</td>\n",
       "            </tr>\n",
       "            <tr>\n",
       "                        <th id=\"T_aba22_level0_row13\" class=\"row_heading level0 row13\" >en</th>\n",
       "                        <td id=\"T_aba22_row13_col0\" class=\"data row13 col0\" >Elastic Net</td>\n",
       "                        <td id=\"T_aba22_row13_col1\" class=\"data row13 col1\" >6.6979</td>\n",
       "                        <td id=\"T_aba22_row13_col2\" class=\"data row13 col2\" >56.7198</td>\n",
       "                        <td id=\"T_aba22_row13_col3\" class=\"data row13 col3\" >7.4901</td>\n",
       "                        <td id=\"T_aba22_row13_col4\" class=\"data row13 col4\" >0.3570</td>\n",
       "                        <td id=\"T_aba22_row13_col5\" class=\"data row13 col5\" >0.4137</td>\n",
       "                        <td id=\"T_aba22_row13_col6\" class=\"data row13 col6\" >0.4810</td>\n",
       "                        <td id=\"T_aba22_row13_col7\" class=\"data row13 col7\" >0.0120</td>\n",
       "            </tr>\n",
       "            <tr>\n",
       "                        <th id=\"T_aba22_level0_row14\" class=\"row_heading level0 row14\" >llar</th>\n",
       "                        <td id=\"T_aba22_row14_col0\" class=\"data row14 col0\" >Lasso Least Angle Regression</td>\n",
       "                        <td id=\"T_aba22_row14_col1\" class=\"data row14 col1\" >7.2216</td>\n",
       "                        <td id=\"T_aba22_row14_col2\" class=\"data row14 col2\" >68.6012</td>\n",
       "                        <td id=\"T_aba22_row14_col3\" class=\"data row14 col3\" >8.0511</td>\n",
       "                        <td id=\"T_aba22_row14_col4\" class=\"data row14 col4\" >0.1856</td>\n",
       "                        <td id=\"T_aba22_row14_col5\" class=\"data row14 col5\" >0.4337</td>\n",
       "                        <td id=\"T_aba22_row14_col6\" class=\"data row14 col6\" >0.5120</td>\n",
       "                        <td id=\"T_aba22_row14_col7\" class=\"data row14 col7\" >0.0110</td>\n",
       "            </tr>\n",
       "            <tr>\n",
       "                        <th id=\"T_aba22_level0_row15\" class=\"row_heading level0 row15\" >lr</th>\n",
       "                        <td id=\"T_aba22_row15_col0\" class=\"data row15 col0\" >Linear Regression</td>\n",
       "                        <td id=\"T_aba22_row15_col1\" class=\"data row15 col1\" >9.5278</td>\n",
       "                        <td id=\"T_aba22_row15_col2\" class=\"data row15 col2\" >346.7446</td>\n",
       "                        <td id=\"T_aba22_row15_col3\" class=\"data row15 col3\" >11.6105</td>\n",
       "                        <td id=\"T_aba22_row15_col4\" class=\"data row15 col4\" >-2.0631</td>\n",
       "                        <td id=\"T_aba22_row15_col5\" class=\"data row15 col5\" >0.4917</td>\n",
       "                        <td id=\"T_aba22_row15_col6\" class=\"data row15 col6\" >0.6522</td>\n",
       "                        <td id=\"T_aba22_row15_col7\" class=\"data row15 col7\" >0.0110</td>\n",
       "            </tr>\n",
       "            <tr>\n",
       "                        <th id=\"T_aba22_level0_row16\" class=\"row_heading level0 row16\" >lar</th>\n",
       "                        <td id=\"T_aba22_row16_col0\" class=\"data row16 col0\" >Least Angle Regression</td>\n",
       "                        <td id=\"T_aba22_row16_col1\" class=\"data row16 col1\" >204668374.0313</td>\n",
       "                        <td id=\"T_aba22_row16_col2\" class=\"data row16 col2\" >974302995309402880.0000</td>\n",
       "                        <td id=\"T_aba22_row16_col3\" class=\"data row16 col3\" >312901369.6766</td>\n",
       "                        <td id=\"T_aba22_row16_col4\" class=\"data row16 col4\" >-8131802545800272.0000</td>\n",
       "                        <td id=\"T_aba22_row16_col5\" class=\"data row16 col5\" >4.3746</td>\n",
       "                        <td id=\"T_aba22_row16_col6\" class=\"data row16 col6\" >11388083.4105</td>\n",
       "                        <td id=\"T_aba22_row16_col7\" class=\"data row16 col7\" >0.0130</td>\n",
       "            </tr>\n",
       "    </tbody></table>"
      ],
      "text/plain": [
       "<pandas.io.formats.style.Styler at 0x29689144048>"
      ]
     },
     "metadata": {},
     "output_type": "display_data"
    },
    {
     "ename": "AttributeError",
     "evalue": "'str' object has no attribute 'decode'",
     "output_type": "error",
     "traceback": [
      "\u001b[1;31m---------------------------------------------------------------------------\u001b[0m",
      "\u001b[1;31mAttributeError\u001b[0m                            Traceback (most recent call last)",
      "\u001b[1;32m<ipython-input-294-56687fc78c82>\u001b[0m in \u001b[0;36m<module>\u001b[1;34m\u001b[0m\n\u001b[1;32m----> 1\u001b[1;33m \u001b[0mmodels\u001b[0m \u001b[1;33m=\u001b[0m \u001b[0mcompare_models\u001b[0m\u001b[1;33m(\u001b[0m\u001b[0msort\u001b[0m\u001b[1;33m=\u001b[0m\u001b[1;34m'RMSE'\u001b[0m\u001b[1;33m)\u001b[0m\u001b[1;33m\u001b[0m\u001b[1;33m\u001b[0m\u001b[0m\n\u001b[0m",
      "\u001b[1;32m~\\AppData\\Local\\Continuum\\anaconda3\\envs\\pycaret2_alex\\lib\\site-packages\\pycaret\\regression.py\u001b[0m in \u001b[0;36mcompare_models\u001b[1;34m(include, exclude, fold, round, cross_validation, sort, n_select, budget_time, turbo, errors, fit_kwargs, groups, verbose)\u001b[0m\n\u001b[0;32m    775\u001b[0m         \u001b[0mfit_kwargs\u001b[0m\u001b[1;33m=\u001b[0m\u001b[0mfit_kwargs\u001b[0m\u001b[1;33m,\u001b[0m\u001b[1;33m\u001b[0m\u001b[1;33m\u001b[0m\u001b[0m\n\u001b[0;32m    776\u001b[0m         \u001b[0mgroups\u001b[0m\u001b[1;33m=\u001b[0m\u001b[0mgroups\u001b[0m\u001b[1;33m,\u001b[0m\u001b[1;33m\u001b[0m\u001b[1;33m\u001b[0m\u001b[0m\n\u001b[1;32m--> 777\u001b[1;33m         \u001b[0mverbose\u001b[0m\u001b[1;33m=\u001b[0m\u001b[0mverbose\u001b[0m\u001b[1;33m,\u001b[0m\u001b[1;33m\u001b[0m\u001b[1;33m\u001b[0m\u001b[0m\n\u001b[0m\u001b[0;32m    778\u001b[0m     )\n\u001b[0;32m    779\u001b[0m \u001b[1;33m\u001b[0m\u001b[0m\n",
      "\u001b[1;32m~\\AppData\\Local\\Continuum\\anaconda3\\envs\\pycaret2_alex\\lib\\site-packages\\pycaret\\internal\\tabular.py\u001b[0m in \u001b[0;36mcompare_models\u001b[1;34m(include, exclude, fold, round, cross_validation, sort, n_select, budget_time, turbo, errors, fit_kwargs, groups, verbose, display)\u001b[0m\n\u001b[0;32m   2312\u001b[0m                     \u001b[0mpredict\u001b[0m\u001b[1;33m=\u001b[0m\u001b[1;32mFalse\u001b[0m\u001b[1;33m,\u001b[0m\u001b[1;33m\u001b[0m\u001b[1;33m\u001b[0m\u001b[0m\n\u001b[0;32m   2313\u001b[0m                     \u001b[0mfit_kwargs\u001b[0m\u001b[1;33m=\u001b[0m\u001b[0mfit_kwargs\u001b[0m\u001b[1;33m,\u001b[0m\u001b[1;33m\u001b[0m\u001b[1;33m\u001b[0m\u001b[0m\n\u001b[1;32m-> 2314\u001b[1;33m                     \u001b[0mgroups\u001b[0m\u001b[1;33m=\u001b[0m\u001b[0mgroups\u001b[0m\u001b[1;33m,\u001b[0m\u001b[1;33m\u001b[0m\u001b[1;33m\u001b[0m\u001b[0m\n\u001b[0m\u001b[0;32m   2315\u001b[0m                 )\n\u001b[0;32m   2316\u001b[0m                 \u001b[0msorted_models\u001b[0m\u001b[1;33m.\u001b[0m\u001b[0mappend\u001b[0m\u001b[1;33m(\u001b[0m\u001b[0mmodel\u001b[0m\u001b[1;33m)\u001b[0m\u001b[1;33m\u001b[0m\u001b[1;33m\u001b[0m\u001b[0m\n",
      "\u001b[1;32m~\\AppData\\Local\\Continuum\\anaconda3\\envs\\pycaret2_alex\\lib\\site-packages\\pycaret\\internal\\tabular.py\u001b[0m in \u001b[0;36mcreate_model_supervised\u001b[1;34m(estimator, fold, round, cross_validation, predict, fit_kwargs, groups, refit, verbose, system, X_train_data, y_train_data, metrics, display, **kwargs)\u001b[0m\n\u001b[0;32m   3046\u001b[0m             \u001b[0mmodel_fit_start\u001b[0m \u001b[1;33m=\u001b[0m \u001b[0mtime\u001b[0m\u001b[1;33m.\u001b[0m\u001b[0mtime\u001b[0m\u001b[1;33m(\u001b[0m\u001b[1;33m)\u001b[0m\u001b[1;33m\u001b[0m\u001b[1;33m\u001b[0m\u001b[0m\n\u001b[0;32m   3047\u001b[0m             \u001b[1;32mwith\u001b[0m \u001b[0mio\u001b[0m\u001b[1;33m.\u001b[0m\u001b[0mcapture_output\u001b[0m\u001b[1;33m(\u001b[0m\u001b[1;33m)\u001b[0m\u001b[1;33m:\u001b[0m\u001b[1;33m\u001b[0m\u001b[1;33m\u001b[0m\u001b[0m\n\u001b[1;32m-> 3048\u001b[1;33m                 \u001b[0mpipeline_with_model\u001b[0m\u001b[1;33m.\u001b[0m\u001b[0mfit\u001b[0m\u001b[1;33m(\u001b[0m\u001b[0mdata_X\u001b[0m\u001b[1;33m,\u001b[0m \u001b[0mdata_y\u001b[0m\u001b[1;33m,\u001b[0m \u001b[1;33m**\u001b[0m\u001b[0mfit_kwargs\u001b[0m\u001b[1;33m)\u001b[0m\u001b[1;33m\u001b[0m\u001b[1;33m\u001b[0m\u001b[0m\n\u001b[0m\u001b[0;32m   3049\u001b[0m             \u001b[0mmodel_fit_end\u001b[0m \u001b[1;33m=\u001b[0m \u001b[0mtime\u001b[0m\u001b[1;33m.\u001b[0m\u001b[0mtime\u001b[0m\u001b[1;33m(\u001b[0m\u001b[1;33m)\u001b[0m\u001b[1;33m\u001b[0m\u001b[1;33m\u001b[0m\u001b[0m\n\u001b[0;32m   3050\u001b[0m \u001b[1;33m\u001b[0m\u001b[0m\n",
      "\u001b[1;32m~\\AppData\\Local\\Continuum\\anaconda3\\envs\\pycaret2_alex\\lib\\site-packages\\pycaret\\internal\\pipeline.py\u001b[0m in \u001b[0;36mfit\u001b[1;34m(self, X, y, **fit_kwargs)\u001b[0m\n\u001b[0;32m    116\u001b[0m \u001b[1;33m\u001b[0m\u001b[0m\n\u001b[0;32m    117\u001b[0m     \u001b[1;32mdef\u001b[0m \u001b[0mfit\u001b[0m\u001b[1;33m(\u001b[0m\u001b[0mself\u001b[0m\u001b[1;33m,\u001b[0m \u001b[0mX\u001b[0m\u001b[1;33m,\u001b[0m \u001b[0my\u001b[0m\u001b[1;33m=\u001b[0m\u001b[1;32mNone\u001b[0m\u001b[1;33m,\u001b[0m \u001b[1;33m**\u001b[0m\u001b[0mfit_kwargs\u001b[0m\u001b[1;33m)\u001b[0m\u001b[1;33m:\u001b[0m\u001b[1;33m\u001b[0m\u001b[1;33m\u001b[0m\u001b[0m\n\u001b[1;32m--> 118\u001b[1;33m         \u001b[0mresult\u001b[0m \u001b[1;33m=\u001b[0m \u001b[0msuper\u001b[0m\u001b[1;33m(\u001b[0m\u001b[1;33m)\u001b[0m\u001b[1;33m.\u001b[0m\u001b[0mfit\u001b[0m\u001b[1;33m(\u001b[0m\u001b[0mX\u001b[0m\u001b[1;33m,\u001b[0m \u001b[0my\u001b[0m\u001b[1;33m=\u001b[0m\u001b[0my\u001b[0m\u001b[1;33m,\u001b[0m \u001b[1;33m**\u001b[0m\u001b[0mfit_kwargs\u001b[0m\u001b[1;33m)\u001b[0m\u001b[1;33m\u001b[0m\u001b[1;33m\u001b[0m\u001b[0m\n\u001b[0m\u001b[0;32m    119\u001b[0m \u001b[1;33m\u001b[0m\u001b[0m\n\u001b[0;32m    120\u001b[0m         \u001b[0mself\u001b[0m\u001b[1;33m.\u001b[0m\u001b[0m_carry_over_final_estimator_fit_vars\u001b[0m\u001b[1;33m(\u001b[0m\u001b[1;33m)\u001b[0m\u001b[1;33m\u001b[0m\u001b[1;33m\u001b[0m\u001b[0m\n",
      "\u001b[1;32m~\\AppData\\Local\\Continuum\\anaconda3\\envs\\pycaret2_alex\\lib\\site-packages\\imblearn\\pipeline.py\u001b[0m in \u001b[0;36mfit\u001b[1;34m(self, X, y, **fit_params)\u001b[0m\n\u001b[0;32m    279\u001b[0m                                  self._log_message(len(self.steps) - 1)):\n\u001b[0;32m    280\u001b[0m             \u001b[1;32mif\u001b[0m \u001b[0mself\u001b[0m\u001b[1;33m.\u001b[0m\u001b[0m_final_estimator\u001b[0m \u001b[1;33m!=\u001b[0m \u001b[1;34m\"passthrough\"\u001b[0m\u001b[1;33m:\u001b[0m\u001b[1;33m\u001b[0m\u001b[1;33m\u001b[0m\u001b[0m\n\u001b[1;32m--> 281\u001b[1;33m                 \u001b[0mself\u001b[0m\u001b[1;33m.\u001b[0m\u001b[0m_final_estimator\u001b[0m\u001b[1;33m.\u001b[0m\u001b[0mfit\u001b[0m\u001b[1;33m(\u001b[0m\u001b[0mXt\u001b[0m\u001b[1;33m,\u001b[0m \u001b[0myt\u001b[0m\u001b[1;33m,\u001b[0m \u001b[1;33m**\u001b[0m\u001b[0mfit_params\u001b[0m\u001b[1;33m)\u001b[0m\u001b[1;33m\u001b[0m\u001b[1;33m\u001b[0m\u001b[0m\n\u001b[0m\u001b[0;32m    282\u001b[0m         \u001b[1;32mreturn\u001b[0m \u001b[0mself\u001b[0m\u001b[1;33m\u001b[0m\u001b[1;33m\u001b[0m\u001b[0m\n\u001b[0;32m    283\u001b[0m \u001b[1;33m\u001b[0m\u001b[0m\n",
      "\u001b[1;32m~\\AppData\\Local\\Continuum\\anaconda3\\envs\\pycaret2_alex\\lib\\site-packages\\sklearn\\linear_model\\_huber.py\u001b[0m in \u001b[0;36mfit\u001b[1;34m(self, X, y, sample_weight)\u001b[0m\n\u001b[0;32m    294\u001b[0m                              \u001b[1;34m\" l-BFGS-b solver terminated with %s\"\u001b[0m\u001b[1;33m\u001b[0m\u001b[1;33m\u001b[0m\u001b[0m\n\u001b[0;32m    295\u001b[0m                              % opt_res.message)\n\u001b[1;32m--> 296\u001b[1;33m         \u001b[0mself\u001b[0m\u001b[1;33m.\u001b[0m\u001b[0mn_iter_\u001b[0m \u001b[1;33m=\u001b[0m \u001b[0m_check_optimize_result\u001b[0m\u001b[1;33m(\u001b[0m\u001b[1;34m\"lbfgs\"\u001b[0m\u001b[1;33m,\u001b[0m \u001b[0mopt_res\u001b[0m\u001b[1;33m,\u001b[0m \u001b[0mself\u001b[0m\u001b[1;33m.\u001b[0m\u001b[0mmax_iter\u001b[0m\u001b[1;33m)\u001b[0m\u001b[1;33m\u001b[0m\u001b[1;33m\u001b[0m\u001b[0m\n\u001b[0m\u001b[0;32m    297\u001b[0m         \u001b[0mself\u001b[0m\u001b[1;33m.\u001b[0m\u001b[0mscale_\u001b[0m \u001b[1;33m=\u001b[0m \u001b[0mparameters\u001b[0m\u001b[1;33m[\u001b[0m\u001b[1;33m-\u001b[0m\u001b[1;36m1\u001b[0m\u001b[1;33m]\u001b[0m\u001b[1;33m\u001b[0m\u001b[1;33m\u001b[0m\u001b[0m\n\u001b[0;32m    298\u001b[0m         \u001b[1;32mif\u001b[0m \u001b[0mself\u001b[0m\u001b[1;33m.\u001b[0m\u001b[0mfit_intercept\u001b[0m\u001b[1;33m:\u001b[0m\u001b[1;33m\u001b[0m\u001b[1;33m\u001b[0m\u001b[0m\n",
      "\u001b[1;32m~\\AppData\\Local\\Continuum\\anaconda3\\envs\\pycaret2_alex\\lib\\site-packages\\sklearn\\utils\\optimize.py\u001b[0m in \u001b[0;36m_check_optimize_result\u001b[1;34m(solver, result, max_iter, extra_warning_msg)\u001b[0m\n\u001b[0;32m    241\u001b[0m                 \u001b[1;34m\"    https://scikit-learn.org/stable/modules/\"\u001b[0m\u001b[1;33m\u001b[0m\u001b[1;33m\u001b[0m\u001b[0m\n\u001b[0;32m    242\u001b[0m                 \u001b[1;34m\"preprocessing.html\"\u001b[0m\u001b[1;33m\u001b[0m\u001b[1;33m\u001b[0m\u001b[0m\n\u001b[1;32m--> 243\u001b[1;33m             ).format(solver, result.status, result.message.decode(\"latin1\"))\n\u001b[0m\u001b[0;32m    244\u001b[0m             \u001b[1;32mif\u001b[0m \u001b[0mextra_warning_msg\u001b[0m \u001b[1;32mis\u001b[0m \u001b[1;32mnot\u001b[0m \u001b[1;32mNone\u001b[0m\u001b[1;33m:\u001b[0m\u001b[1;33m\u001b[0m\u001b[1;33m\u001b[0m\u001b[0m\n\u001b[0;32m    245\u001b[0m                 \u001b[0mwarning_msg\u001b[0m \u001b[1;33m+=\u001b[0m \u001b[1;34m\"\\n\"\u001b[0m \u001b[1;33m+\u001b[0m \u001b[0mextra_warning_msg\u001b[0m\u001b[1;33m\u001b[0m\u001b[1;33m\u001b[0m\u001b[0m\n",
      "\u001b[1;31mAttributeError\u001b[0m: 'str' object has no attribute 'decode'"
     ]
    }
   ],
   "source": [
    "models = compare_models(sort='RMSE')"
   ]
  },
  {
   "cell_type": "markdown",
   "metadata": {},
   "source": [
    "#### Holdout metrics"
   ]
  },
  {
   "cell_type": "code",
   "execution_count": 296,
   "metadata": {},
   "outputs": [],
   "source": [
    "models = create_model('et',verbose=False)\n",
    "#models = create_model('huber',verbose=False)"
   ]
  },
  {
   "cell_type": "code",
   "execution_count": 297,
   "metadata": {},
   "outputs": [],
   "source": [
    "trained = predict_model(models, data=df_train)\n",
    "predicted = predict_model(models, data=df_val)"
   ]
  },
  {
   "cell_type": "code",
   "execution_count": 298,
   "metadata": {},
   "outputs": [
    {
     "data": {
      "text/plain": [
       "12.65197933754435"
      ]
     },
     "execution_count": 298,
     "metadata": {},
     "output_type": "execute_result"
    }
   ],
   "source": [
    "metrics.mean_squared_error(predicted[TARGET], predicted['Label'])"
   ]
  },
  {
   "cell_type": "code",
   "execution_count": 299,
   "metadata": {},
   "outputs": [
    {
     "data": {
      "image/png": "[encoded data removed]",
      "text/plain": [
       "<Figure size 432x288 with 1 Axes>"
      ]
     },
     "metadata": {
      "needs_background": "light"
     },
     "output_type": "display_data"
    }
   ],
   "source": [
    "plt.plot_date(predicted.time, predicted.Label, '-')\n",
    "plt.plot_date(predicted.time, predicted[TARGET], '-')\n",
    "plt.grid()"
   ]
  },
  {
   "cell_type": "code",
   "execution_count": 300,
   "metadata": {},
   "outputs": [
    {
     "data": {
      "image/png": "[encoded data removed]",
      "text/plain": [
       "<Figure size 432x288 with 1 Axes>"
      ]
     },
     "metadata": {
      "needs_background": "light"
     },
     "output_type": "display_data"
    }
   ],
   "source": [
    "plt.scatter(predicted[TARGET], predicted.Label)\n",
    "plt.plot([0,40], [0,40], '-')\n",
    "plt.grid()"
   ]
  },
  {
   "cell_type": "code",
   "execution_count": 301,
   "metadata": {},
   "outputs": [
    {
     "data": {
      "image/png": "[encoded data removed]",
      "text/plain": [
       "<Figure size 432x288 with 1 Axes>"
      ]
     },
     "metadata": {
      "needs_background": "light"
     },
     "output_type": "display_data"
    }
   ],
   "source": [
    "plt.plot_date(predicted.time, predicted.Label-predicted[TARGET], '-')\n",
    "plt.grid()\n",
    "\n"
   ]
  },
  {
   "cell_type": "code",
   "execution_count": 199,
   "metadata": {},
   "outputs": [
    {
     "data": {
      "image/png": "[encoded data removed]",
      "text/plain": [
       "<Figure size 432x288 with 1 Axes>"
      ]
     },
     "metadata": {
      "needs_background": "light"
     },
     "output_type": "display_data"
    }
   ],
   "source": [
    "plt.plot_date(trained.time, trained.Label, '-')\n",
    "plt.plot_date(trained.time, trained[TARGET], '-')\n",
    "plt.grid()\n"
   ]
  }
 ],
 "metadata": {
  "kernelspec": {
   "display_name": "Python 3",
   "language": "python",
   "name": "python3"
  },
  "language_info": {
   "codemirror_mode": {
    "name": "ipython",
    "version": 3
   },
   "file_extension": ".py",
   "mimetype": "text/x-python",
   "name": "python",
   "nbconvert_exporter": "python",
   "pygments_lexer": "ipython3",
   "version": "3.7.10"
  }
 },
 "nbformat": 4,
 "nbformat_minor": 4
}
