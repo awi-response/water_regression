{
 "cells": [
  {
   "cell_type": "markdown",
   "metadata": {},
   "source": [
    "# Description \n",
    "\n",
    "#### Pycaret documentation\n",
    "https://pycaret.org/regression/"
   ]
  },
  {
   "cell_type": "markdown",
   "metadata": {},
   "source": [
    "#### Run inconda env pycaret2_alex"
   ]
  },
  {
   "cell_type": "markdown",
   "metadata": {},
   "source": [
    "### ToDo\n",
    "1. test full dataset for individual pixels"
   ]
  },
  {
   "cell_type": "markdown",
   "metadata": {},
   "source": [
    "## Imports "
   ]
  },
  {
   "cell_type": "code",
   "execution_count": 11,
   "metadata": {},
   "outputs": [],
   "source": [
    "#import regression module \n",
    "from pycaret.regression import * \n",
    "\n",
    "import pandas as pd\n",
    "%config Completer.use_jedi = False"
   ]
  },
  {
   "cell_type": "code",
   "execution_count": 64,
   "metadata": {},
   "outputs": [],
   "source": [
    "import matplotlib.pyplot as plt\n",
    "from sklearn import metrics"
   ]
  },
  {
   "cell_type": "code",
   "execution_count": 482,
   "metadata": {},
   "outputs": [],
   "source": [
    "import datetime\n",
    "import tqdm"
   ]
  },
  {
   "cell_type": "markdown",
   "metadata": {},
   "source": [
    "## Setting and Setup"
   ]
  },
  {
   "cell_type": "markdown",
   "metadata": {},
   "source": [
    "#### Data "
   ]
  },
  {
   "cell_type": "code",
   "execution_count": 532,
   "metadata": {},
   "outputs": [],
   "source": [
    "PATH_DATA = r'data/INSITU_vs_SAT.csv'\n",
    "#PATH_DATA = r'data/INSITU_SAT_ALL_PIXELS.csv'\n",
    "MODEL_PATH = r'models/a254_2021-03-11'"
   ]
  },
  {
   "cell_type": "markdown",
   "metadata": {},
   "source": [
    "#### Regression "
   ]
  },
  {
   "cell_type": "code",
   "execution_count": 372,
   "metadata": {},
   "outputs": [],
   "source": [
    "TARGET = 'a254'\n",
    "DATA_COLS = ['time', 'Rw400', 'Rw412', 'Rw443', 'Rw490', 'Rw510', 'Rw560',\n",
    "       'Rw620', 'Rw665', 'Rw674', 'Rw681', 'Rw709', 'Rw754', 'Rw779', 'Rw865',\n",
    "       'Rw1020']"
   ]
  },
  {
   "cell_type": "markdown",
   "metadata": {},
   "source": [
    "## Data Loading and preprocessing "
   ]
  },
  {
   "cell_type": "code",
   "execution_count": 373,
   "metadata": {},
   "outputs": [],
   "source": [
    "df = pd.read_csv(PATH_DATA)"
   ]
  },
  {
   "cell_type": "code",
   "execution_count": 374,
   "metadata": {},
   "outputs": [
    {
     "data": {
      "text/html": [
       "<div>\n",
       "<style scoped>\n",
       "    .dataframe tbody tr th:only-of-type {\n",
       "        vertical-align: middle;\n",
       "    }\n",
       "\n",
       "    .dataframe tbody tr th {\n",
       "        vertical-align: top;\n",
       "    }\n",
       "\n",
       "    .dataframe thead th {\n",
       "        text-align: right;\n",
       "    }\n",
       "</style>\n",
       "<table border=\"1\" class=\"dataframe\">\n",
       "  <thead>\n",
       "    <tr style=\"text-align: right;\">\n",
       "      <th></th>\n",
       "      <th>time</th>\n",
       "      <th>n</th>\n",
       "      <th>Rw400</th>\n",
       "      <th>Rw412</th>\n",
       "      <th>Rw443</th>\n",
       "      <th>Rw490</th>\n",
       "      <th>Rw510</th>\n",
       "      <th>Rw560</th>\n",
       "      <th>Rw620</th>\n",
       "      <th>Rw665</th>\n",
       "      <th>...</th>\n",
       "      <th>Rw754</th>\n",
       "      <th>Rw779</th>\n",
       "      <th>Rw865</th>\n",
       "      <th>Rw1020</th>\n",
       "      <th>ratio</th>\n",
       "      <th>cdom440</th>\n",
       "      <th>cdom375</th>\n",
       "      <th>a254</th>\n",
       "      <th>a350</th>\n",
       "      <th>a443</th>\n",
       "    </tr>\n",
       "  </thead>\n",
       "  <tbody>\n",
       "    <tr>\n",
       "      <th>0</th>\n",
       "      <td>2018-05-30</td>\n",
       "      <td>20</td>\n",
       "      <td>0.010117</td>\n",
       "      <td>0.007851</td>\n",
       "      <td>0.009023</td>\n",
       "      <td>0.011803</td>\n",
       "      <td>0.015951</td>\n",
       "      <td>0.035293</td>\n",
       "      <td>0.032618</td>\n",
       "      <td>0.027384</td>\n",
       "      <td>...</td>\n",
       "      <td>0.012502</td>\n",
       "      <td>0.010208</td>\n",
       "      <td>0.005799</td>\n",
       "      <td>0.001353</td>\n",
       "      <td>2.639883</td>\n",
       "      <td>0.005973</td>\n",
       "      <td>-0.022636</td>\n",
       "      <td>57.289490</td>\n",
       "      <td>14.757243</td>\n",
       "      <td>3.633730</td>\n",
       "    </tr>\n",
       "    <tr>\n",
       "      <th>1</th>\n",
       "      <td>2018-05-31</td>\n",
       "      <td>37</td>\n",
       "      <td>0.004514</td>\n",
       "      <td>0.004369</td>\n",
       "      <td>0.004935</td>\n",
       "      <td>0.006927</td>\n",
       "      <td>0.009673</td>\n",
       "      <td>0.018504</td>\n",
       "      <td>0.021040</td>\n",
       "      <td>0.023322</td>\n",
       "      <td>...</td>\n",
       "      <td>0.012732</td>\n",
       "      <td>0.012021</td>\n",
       "      <td>0.007698</td>\n",
       "      <td>0.010300</td>\n",
       "      <td>3.422013</td>\n",
       "      <td>0.020040</td>\n",
       "      <td>0.040916</td>\n",
       "      <td>65.533020</td>\n",
       "      <td>17.227237</td>\n",
       "      <td>4.391385</td>\n",
       "    </tr>\n",
       "    <tr>\n",
       "      <th>2</th>\n",
       "      <td>2018-06-01</td>\n",
       "      <td>54</td>\n",
       "      <td>0.002090</td>\n",
       "      <td>0.002488</td>\n",
       "      <td>0.004565</td>\n",
       "      <td>0.006881</td>\n",
       "      <td>0.009211</td>\n",
       "      <td>0.017073</td>\n",
       "      <td>0.022303</td>\n",
       "      <td>0.025289</td>\n",
       "      <td>...</td>\n",
       "      <td>0.014699</td>\n",
       "      <td>0.013754</td>\n",
       "      <td>0.008828</td>\n",
       "      <td>0.011552</td>\n",
       "      <td>3.677898</td>\n",
       "      <td>0.021601</td>\n",
       "      <td>0.048001</td>\n",
       "      <td>73.776550</td>\n",
       "      <td>19.697230</td>\n",
       "      <td>5.149040</td>\n",
       "    </tr>\n",
       "    <tr>\n",
       "      <th>3</th>\n",
       "      <td>2018-06-03</td>\n",
       "      <td>36</td>\n",
       "      <td>0.002980</td>\n",
       "      <td>0.003100</td>\n",
       "      <td>0.005143</td>\n",
       "      <td>0.006235</td>\n",
       "      <td>0.008854</td>\n",
       "      <td>0.017334</td>\n",
       "      <td>0.024193</td>\n",
       "      <td>0.029256</td>\n",
       "      <td>...</td>\n",
       "      <td>0.020082</td>\n",
       "      <td>0.019581</td>\n",
       "      <td>0.014587</td>\n",
       "      <td>0.022014</td>\n",
       "      <td>4.312529</td>\n",
       "      <td>0.025584</td>\n",
       "      <td>0.065802</td>\n",
       "      <td>106.558525</td>\n",
       "      <td>28.445500</td>\n",
       "      <td>7.063755</td>\n",
       "    </tr>\n",
       "    <tr>\n",
       "      <th>4</th>\n",
       "      <td>2018-06-04</td>\n",
       "      <td>8</td>\n",
       "      <td>0.000987</td>\n",
       "      <td>-0.000062</td>\n",
       "      <td>0.004218</td>\n",
       "      <td>0.010010</td>\n",
       "      <td>0.014556</td>\n",
       "      <td>0.025882</td>\n",
       "      <td>0.038078</td>\n",
       "      <td>0.045455</td>\n",
       "      <td>...</td>\n",
       "      <td>0.049468</td>\n",
       "      <td>0.047743</td>\n",
       "      <td>0.049196</td>\n",
       "      <td>0.050280</td>\n",
       "      <td>4.541117</td>\n",
       "      <td>0.026205</td>\n",
       "      <td>0.068659</td>\n",
       "      <td>122.949512</td>\n",
       "      <td>32.819635</td>\n",
       "      <td>8.021113</td>\n",
       "    </tr>\n",
       "    <tr>\n",
       "      <th>...</th>\n",
       "      <td>...</td>\n",
       "      <td>...</td>\n",
       "      <td>...</td>\n",
       "      <td>...</td>\n",
       "      <td>...</td>\n",
       "      <td>...</td>\n",
       "      <td>...</td>\n",
       "      <td>...</td>\n",
       "      <td>...</td>\n",
       "      <td>...</td>\n",
       "      <td>...</td>\n",
       "      <td>...</td>\n",
       "      <td>...</td>\n",
       "      <td>...</td>\n",
       "      <td>...</td>\n",
       "      <td>...</td>\n",
       "      <td>...</td>\n",
       "      <td>...</td>\n",
       "      <td>...</td>\n",
       "      <td>...</td>\n",
       "      <td>...</td>\n",
       "    </tr>\n",
       "    <tr>\n",
       "      <th>271</th>\n",
       "      <td>2020-10-10</td>\n",
       "      <td>140</td>\n",
       "      <td>0.008314</td>\n",
       "      <td>0.005839</td>\n",
       "      <td>0.003979</td>\n",
       "      <td>0.004928</td>\n",
       "      <td>0.007497</td>\n",
       "      <td>0.018200</td>\n",
       "      <td>0.018025</td>\n",
       "      <td>0.016693</td>\n",
       "      <td>...</td>\n",
       "      <td>0.012171</td>\n",
       "      <td>0.010751</td>\n",
       "      <td>0.005347</td>\n",
       "      <td>0.007422</td>\n",
       "      <td>3.230043</td>\n",
       "      <td>0.008138</td>\n",
       "      <td>-0.012202</td>\n",
       "      <td>NaN</td>\n",
       "      <td>NaN</td>\n",
       "      <td>NaN</td>\n",
       "    </tr>\n",
       "    <tr>\n",
       "      <th>272</th>\n",
       "      <td>2020-10-11</td>\n",
       "      <td>281</td>\n",
       "      <td>0.007198</td>\n",
       "      <td>0.006148</td>\n",
       "      <td>0.005128</td>\n",
       "      <td>0.005403</td>\n",
       "      <td>0.009196</td>\n",
       "      <td>0.018730</td>\n",
       "      <td>0.017499</td>\n",
       "      <td>0.015186</td>\n",
       "      <td>...</td>\n",
       "      <td>0.008802</td>\n",
       "      <td>0.007811</td>\n",
       "      <td>0.003230</td>\n",
       "      <td>0.006138</td>\n",
       "      <td>2.847090</td>\n",
       "      <td>0.006223</td>\n",
       "      <td>-0.020943</td>\n",
       "      <td>NaN</td>\n",
       "      <td>NaN</td>\n",
       "      <td>NaN</td>\n",
       "    </tr>\n",
       "    <tr>\n",
       "      <th>273</th>\n",
       "      <td>2020-10-13</td>\n",
       "      <td>287</td>\n",
       "      <td>0.005680</td>\n",
       "      <td>0.005283</td>\n",
       "      <td>0.004264</td>\n",
       "      <td>0.004973</td>\n",
       "      <td>0.007928</td>\n",
       "      <td>0.016990</td>\n",
       "      <td>0.017220</td>\n",
       "      <td>0.015693</td>\n",
       "      <td>...</td>\n",
       "      <td>0.009356</td>\n",
       "      <td>0.008404</td>\n",
       "      <td>0.003999</td>\n",
       "      <td>0.010798</td>\n",
       "      <td>3.158948</td>\n",
       "      <td>0.008898</td>\n",
       "      <td>-0.008870</td>\n",
       "      <td>NaN</td>\n",
       "      <td>NaN</td>\n",
       "      <td>NaN</td>\n",
       "    </tr>\n",
       "    <tr>\n",
       "      <th>274</th>\n",
       "      <td>2020-10-15</td>\n",
       "      <td>31</td>\n",
       "      <td>0.396156</td>\n",
       "      <td>0.404947</td>\n",
       "      <td>0.412507</td>\n",
       "      <td>0.412356</td>\n",
       "      <td>0.422882</td>\n",
       "      <td>0.442493</td>\n",
       "      <td>0.442679</td>\n",
       "      <td>0.439721</td>\n",
       "      <td>...</td>\n",
       "      <td>0.438599</td>\n",
       "      <td>0.437722</td>\n",
       "      <td>0.435817</td>\n",
       "      <td>0.465139</td>\n",
       "      <td>1.066362</td>\n",
       "      <td>0.010357</td>\n",
       "      <td>-0.047030</td>\n",
       "      <td>NaN</td>\n",
       "      <td>NaN</td>\n",
       "      <td>NaN</td>\n",
       "    </tr>\n",
       "    <tr>\n",
       "      <th>275</th>\n",
       "      <td>2020-10-16</td>\n",
       "      <td>3</td>\n",
       "      <td>0.004055</td>\n",
       "      <td>0.009260</td>\n",
       "      <td>0.005541</td>\n",
       "      <td>0.006488</td>\n",
       "      <td>0.012263</td>\n",
       "      <td>0.028675</td>\n",
       "      <td>0.026529</td>\n",
       "      <td>0.024458</td>\n",
       "      <td>...</td>\n",
       "      <td>0.018408</td>\n",
       "      <td>0.017010</td>\n",
       "      <td>0.007824</td>\n",
       "      <td>0.003128</td>\n",
       "      <td>3.769908</td>\n",
       "      <td>0.006705</td>\n",
       "      <td>-0.018883</td>\n",
       "      <td>NaN</td>\n",
       "      <td>NaN</td>\n",
       "      <td>NaN</td>\n",
       "    </tr>\n",
       "  </tbody>\n",
       "</table>\n",
       "<p>276 rows × 23 columns</p>\n",
       "</div>"
      ],
      "text/plain": [
       "           time    n     Rw400     Rw412     Rw443     Rw490     Rw510  \\\n",
       "0    2018-05-30   20  0.010117  0.007851  0.009023  0.011803  0.015951   \n",
       "1    2018-05-31   37  0.004514  0.004369  0.004935  0.006927  0.009673   \n",
       "2    2018-06-01   54  0.002090  0.002488  0.004565  0.006881  0.009211   \n",
       "3    2018-06-03   36  0.002980  0.003100  0.005143  0.006235  0.008854   \n",
       "4    2018-06-04    8  0.000987 -0.000062  0.004218  0.010010  0.014556   \n",
       "..          ...  ...       ...       ...       ...       ...       ...   \n",
       "271  2020-10-10  140  0.008314  0.005839  0.003979  0.004928  0.007497   \n",
       "272  2020-10-11  281  0.007198  0.006148  0.005128  0.005403  0.009196   \n",
       "273  2020-10-13  287  0.005680  0.005283  0.004264  0.004973  0.007928   \n",
       "274  2020-10-15   31  0.396156  0.404947  0.412507  0.412356  0.422882   \n",
       "275  2020-10-16    3  0.004055  0.009260  0.005541  0.006488  0.012263   \n",
       "\n",
       "        Rw560     Rw620     Rw665  ...     Rw754     Rw779     Rw865  \\\n",
       "0    0.035293  0.032618  0.027384  ...  0.012502  0.010208  0.005799   \n",
       "1    0.018504  0.021040  0.023322  ...  0.012732  0.012021  0.007698   \n",
       "2    0.017073  0.022303  0.025289  ...  0.014699  0.013754  0.008828   \n",
       "3    0.017334  0.024193  0.029256  ...  0.020082  0.019581  0.014587   \n",
       "4    0.025882  0.038078  0.045455  ...  0.049468  0.047743  0.049196   \n",
       "..        ...       ...       ...  ...       ...       ...       ...   \n",
       "271  0.018200  0.018025  0.016693  ...  0.012171  0.010751  0.005347   \n",
       "272  0.018730  0.017499  0.015186  ...  0.008802  0.007811  0.003230   \n",
       "273  0.016990  0.017220  0.015693  ...  0.009356  0.008404  0.003999   \n",
       "274  0.442493  0.442679  0.439721  ...  0.438599  0.437722  0.435817   \n",
       "275  0.028675  0.026529  0.024458  ...  0.018408  0.017010  0.007824   \n",
       "\n",
       "       Rw1020     ratio   cdom440   cdom375        a254       a350      a443  \n",
       "0    0.001353  2.639883  0.005973 -0.022636   57.289490  14.757243  3.633730  \n",
       "1    0.010300  3.422013  0.020040  0.040916   65.533020  17.227237  4.391385  \n",
       "2    0.011552  3.677898  0.021601  0.048001   73.776550  19.697230  5.149040  \n",
       "3    0.022014  4.312529  0.025584  0.065802  106.558525  28.445500  7.063755  \n",
       "4    0.050280  4.541117  0.026205  0.068659  122.949512  32.819635  8.021113  \n",
       "..        ...       ...       ...       ...         ...        ...       ...  \n",
       "271  0.007422  3.230043  0.008138 -0.012202         NaN        NaN       NaN  \n",
       "272  0.006138  2.847090  0.006223 -0.020943         NaN        NaN       NaN  \n",
       "273  0.010798  3.158948  0.008898 -0.008870         NaN        NaN       NaN  \n",
       "274  0.465139  1.066362  0.010357 -0.047030         NaN        NaN       NaN  \n",
       "275  0.003128  3.769908  0.006705 -0.018883         NaN        NaN       NaN  \n",
       "\n",
       "[276 rows x 23 columns]"
      ]
     },
     "execution_count": 374,
     "metadata": {},
     "output_type": "execute_result"
    }
   ],
   "source": [
    "df"
   ]
  },
  {
   "cell_type": "code",
   "execution_count": 375,
   "metadata": {},
   "outputs": [
    {
     "data": {
      "text/plain": [
       "Index(['time', 'n', 'Rw400', 'Rw412', 'Rw443', 'Rw490', 'Rw510', 'Rw560',\n",
       "       'Rw620', 'Rw665', 'Rw674', 'Rw681', 'Rw709', 'Rw754', 'Rw779', 'Rw865',\n",
       "       'Rw1020', 'ratio', 'cdom440', 'cdom375', 'a254', 'a350', 'a443'],\n",
       "      dtype='object')"
      ]
     },
     "execution_count": 375,
     "metadata": {},
     "output_type": "execute_result"
    }
   ],
   "source": [
    "df.columns"
   ]
  },
  {
   "cell_type": "markdown",
   "metadata": {},
   "source": [
    "#### Adapt datatypes"
   ]
  },
  {
   "cell_type": "code",
   "execution_count": 376,
   "metadata": {},
   "outputs": [],
   "source": [
    "df.time = pd.to_datetime(df.time)"
   ]
  },
  {
   "cell_type": "markdown",
   "metadata": {},
   "source": [
    "## Model comparison \n",
    "model setup - ET often best/one of best models\n",
    "  -  to be tested on hold_out set"
   ]
  },
  {
   "cell_type": "code",
   "execution_count": 377,
   "metadata": {},
   "outputs": [],
   "source": [
    "val_year = 2020\n",
    "df_filt = (df.query('n > 0')[DATA_COLS + [TARGET]]).dropna()\n",
    "df_train = df_filt[df.time.dt.year !=val_year]\n",
    "df_val = df_filt[df.time.dt.year ==val_year]"
   ]
  },
  {
   "cell_type": "code",
   "execution_count": 354,
   "metadata": {},
   "outputs": [],
   "source": [
    "experiment = setup(df_train, target=TARGET, \n",
    "                   remove_multicollinearity=False, \n",
    "                   fold_strategy='timeseries', \n",
    "                   date_features=['time'],\n",
    "                   transformation=False,\n",
    "                   remove_outliers=False, \n",
    "                   silent=True,\n",
    "                   normalize=False,\n",
    "                   pca=False,\n",
    "                   verbose=False)\n",
    "models_compare = compare_models(sort='RMSE', exclude=['huber'])"
   ]
  },
  {
   "cell_type": "code",
   "execution_count": 355,
   "metadata": {},
   "outputs": [
    {
     "data": {
      "text/html": [
       "<style  type=\"text/css\" >\n",
       "    #T_88118_ th {\n",
       "          text-align: left;\n",
       "    }#T_88118_row0_col0,#T_88118_row1_col0,#T_88118_row1_col1,#T_88118_row1_col2,#T_88118_row1_col3,#T_88118_row1_col4,#T_88118_row1_col5,#T_88118_row1_col6,#T_88118_row2_col0,#T_88118_row2_col1,#T_88118_row2_col2,#T_88118_row2_col3,#T_88118_row2_col4,#T_88118_row2_col5,#T_88118_row2_col6,#T_88118_row3_col0,#T_88118_row3_col1,#T_88118_row3_col2,#T_88118_row3_col3,#T_88118_row3_col4,#T_88118_row3_col5,#T_88118_row3_col6,#T_88118_row4_col0,#T_88118_row4_col1,#T_88118_row4_col2,#T_88118_row4_col3,#T_88118_row4_col4,#T_88118_row4_col5,#T_88118_row4_col6,#T_88118_row5_col0,#T_88118_row5_col1,#T_88118_row5_col2,#T_88118_row5_col3,#T_88118_row5_col4,#T_88118_row5_col5,#T_88118_row5_col6,#T_88118_row6_col0,#T_88118_row6_col1,#T_88118_row6_col2,#T_88118_row6_col3,#T_88118_row6_col4,#T_88118_row6_col5,#T_88118_row6_col6,#T_88118_row7_col0,#T_88118_row7_col1,#T_88118_row7_col2,#T_88118_row7_col3,#T_88118_row7_col4,#T_88118_row7_col5,#T_88118_row7_col6,#T_88118_row8_col0,#T_88118_row8_col1,#T_88118_row8_col2,#T_88118_row8_col3,#T_88118_row8_col4,#T_88118_row8_col5,#T_88118_row8_col6,#T_88118_row9_col0,#T_88118_row9_col1,#T_88118_row9_col2,#T_88118_row9_col3,#T_88118_row9_col4,#T_88118_row9_col5,#T_88118_row9_col6,#T_88118_row10_col0,#T_88118_row10_col1,#T_88118_row10_col2,#T_88118_row10_col3,#T_88118_row10_col4,#T_88118_row10_col5,#T_88118_row10_col6,#T_88118_row11_col0,#T_88118_row11_col1,#T_88118_row11_col2,#T_88118_row11_col3,#T_88118_row11_col4,#T_88118_row11_col5,#T_88118_row11_col6,#T_88118_row12_col0,#T_88118_row12_col1,#T_88118_row12_col2,#T_88118_row12_col3,#T_88118_row12_col4,#T_88118_row12_col5,#T_88118_row12_col6,#T_88118_row13_col0,#T_88118_row13_col1,#T_88118_row13_col2,#T_88118_row13_col3,#T_88118_row13_col4,#T_88118_row13_col5,#T_88118_row13_col6,#T_88118_row14_col0,#T_88118_row14_col1,#T_88118_row14_col2,#T_88118_row14_col3,#T_88118_row14_col4,#T_88118_row14_col5,#T_88118_row14_col6,#T_88118_row15_col0,#T_88118_row15_col1,#T_88118_row15_col2,#T_88118_row15_col3,#T_88118_row15_col4,#T_88118_row15_col5,#T_88118_row15_col6{\n",
       "            text-align:  left;\n",
       "            text-align:  left;\n",
       "        }#T_88118_row0_col1,#T_88118_row0_col2,#T_88118_row0_col3,#T_88118_row0_col4,#T_88118_row0_col5,#T_88118_row0_col6{\n",
       "            text-align:  left;\n",
       "            text-align:  left;\n",
       "            background-color:  yellow;\n",
       "        }#T_88118_row0_col7,#T_88118_row1_col7,#T_88118_row2_col7,#T_88118_row3_col7,#T_88118_row4_col7,#T_88118_row5_col7,#T_88118_row6_col7,#T_88118_row7_col7,#T_88118_row9_col7,#T_88118_row11_col7,#T_88118_row12_col7,#T_88118_row13_col7,#T_88118_row14_col7,#T_88118_row15_col7{\n",
       "            text-align:  left;\n",
       "            text-align:  left;\n",
       "            background-color:  lightgrey;\n",
       "        }#T_88118_row8_col7,#T_88118_row10_col7{\n",
       "            text-align:  left;\n",
       "            text-align:  left;\n",
       "            background-color:  yellow;\n",
       "            background-color:  lightgrey;\n",
       "        }</style><table id=\"T_88118_\" ><thead>    <tr>        <th class=\"blank level0\" ></th>        <th class=\"col_heading level0 col0\" >Model</th>        <th class=\"col_heading level0 col1\" >MAE</th>        <th class=\"col_heading level0 col2\" >MSE</th>        <th class=\"col_heading level0 col3\" >RMSE</th>        <th class=\"col_heading level0 col4\" >R2</th>        <th class=\"col_heading level0 col5\" >RMSLE</th>        <th class=\"col_heading level0 col6\" >MAPE</th>        <th class=\"col_heading level0 col7\" >TT (Sec)</th>    </tr></thead><tbody>\n",
       "                <tr>\n",
       "                        <th id=\"T_88118_level0_row0\" class=\"row_heading level0 row0\" >gbr</th>\n",
       "                        <td id=\"T_88118_row0_col0\" class=\"data row0 col0\" >Gradient Boosting Regressor</td>\n",
       "                        <td id=\"T_88118_row0_col1\" class=\"data row0 col1\" >9.2123</td>\n",
       "                        <td id=\"T_88118_row0_col2\" class=\"data row0 col2\" >148.9913</td>\n",
       "                        <td id=\"T_88118_row0_col3\" class=\"data row0 col3\" >11.8313</td>\n",
       "                        <td id=\"T_88118_row0_col4\" class=\"data row0 col4\" >0.8514</td>\n",
       "                        <td id=\"T_88118_row0_col5\" class=\"data row0 col5\" >0.1780</td>\n",
       "                        <td id=\"T_88118_row0_col6\" class=\"data row0 col6\" >0.1439</td>\n",
       "                        <td id=\"T_88118_row0_col7\" class=\"data row0 col7\" >0.0180</td>\n",
       "            </tr>\n",
       "            <tr>\n",
       "                        <th id=\"T_88118_level0_row1\" class=\"row_heading level0 row1\" >rf</th>\n",
       "                        <td id=\"T_88118_row1_col0\" class=\"data row1 col0\" >Random Forest Regressor</td>\n",
       "                        <td id=\"T_88118_row1_col1\" class=\"data row1 col1\" >9.3193</td>\n",
       "                        <td id=\"T_88118_row1_col2\" class=\"data row1 col2\" >159.5951</td>\n",
       "                        <td id=\"T_88118_row1_col3\" class=\"data row1 col3\" >12.1303</td>\n",
       "                        <td id=\"T_88118_row1_col4\" class=\"data row1 col4\" >0.8425</td>\n",
       "                        <td id=\"T_88118_row1_col5\" class=\"data row1 col5\" >0.1834</td>\n",
       "                        <td id=\"T_88118_row1_col6\" class=\"data row1 col6\" >0.1470</td>\n",
       "                        <td id=\"T_88118_row1_col7\" class=\"data row1 col7\" >0.1180</td>\n",
       "            </tr>\n",
       "            <tr>\n",
       "                        <th id=\"T_88118_level0_row2\" class=\"row_heading level0 row2\" >ada</th>\n",
       "                        <td id=\"T_88118_row2_col0\" class=\"data row2 col0\" >AdaBoost Regressor</td>\n",
       "                        <td id=\"T_88118_row2_col1\" class=\"data row2 col1\" >10.0615</td>\n",
       "                        <td id=\"T_88118_row2_col2\" class=\"data row2 col2\" >179.6299</td>\n",
       "                        <td id=\"T_88118_row2_col3\" class=\"data row2 col3\" >12.9288</td>\n",
       "                        <td id=\"T_88118_row2_col4\" class=\"data row2 col4\" >0.8230</td>\n",
       "                        <td id=\"T_88118_row2_col5\" class=\"data row2 col5\" >0.2010</td>\n",
       "                        <td id=\"T_88118_row2_col6\" class=\"data row2 col6\" >0.1616</td>\n",
       "                        <td id=\"T_88118_row2_col7\" class=\"data row2 col7\" >0.0220</td>\n",
       "            </tr>\n",
       "            <tr>\n",
       "                        <th id=\"T_88118_level0_row3\" class=\"row_heading level0 row3\" >dt</th>\n",
       "                        <td id=\"T_88118_row3_col0\" class=\"data row3 col0\" >Decision Tree Regressor</td>\n",
       "                        <td id=\"T_88118_row3_col1\" class=\"data row3 col1\" >10.1299</td>\n",
       "                        <td id=\"T_88118_row3_col2\" class=\"data row3 col2\" >221.1427</td>\n",
       "                        <td id=\"T_88118_row3_col3\" class=\"data row3 col3\" >14.1166</td>\n",
       "                        <td id=\"T_88118_row3_col4\" class=\"data row3 col4\" >0.7761</td>\n",
       "                        <td id=\"T_88118_row3_col5\" class=\"data row3 col5\" >0.2043</td>\n",
       "                        <td id=\"T_88118_row3_col6\" class=\"data row3 col6\" >0.1492</td>\n",
       "                        <td id=\"T_88118_row3_col7\" class=\"data row3 col7\" >0.0140</td>\n",
       "            </tr>\n",
       "            <tr>\n",
       "                        <th id=\"T_88118_level0_row4\" class=\"row_heading level0 row4\" >et</th>\n",
       "                        <td id=\"T_88118_row4_col0\" class=\"data row4 col0\" >Extra Trees Regressor</td>\n",
       "                        <td id=\"T_88118_row4_col1\" class=\"data row4 col1\" >11.5260</td>\n",
       "                        <td id=\"T_88118_row4_col2\" class=\"data row4 col2\" >217.6106</td>\n",
       "                        <td id=\"T_88118_row4_col3\" class=\"data row4 col3\" >14.2205</td>\n",
       "                        <td id=\"T_88118_row4_col4\" class=\"data row4 col4\" >0.7789</td>\n",
       "                        <td id=\"T_88118_row4_col5\" class=\"data row4 col5\" >0.2174</td>\n",
       "                        <td id=\"T_88118_row4_col6\" class=\"data row4 col6\" >0.1786</td>\n",
       "                        <td id=\"T_88118_row4_col7\" class=\"data row4 col7\" >0.1020</td>\n",
       "            </tr>\n",
       "            <tr>\n",
       "                        <th id=\"T_88118_level0_row5\" class=\"row_heading level0 row5\" >omp</th>\n",
       "                        <td id=\"T_88118_row5_col0\" class=\"data row5 col0\" >Orthogonal Matching Pursuit</td>\n",
       "                        <td id=\"T_88118_row5_col1\" class=\"data row5 col1\" >12.3106</td>\n",
       "                        <td id=\"T_88118_row5_col2\" class=\"data row5 col2\" >229.0920</td>\n",
       "                        <td id=\"T_88118_row5_col3\" class=\"data row5 col3\" >14.8472</td>\n",
       "                        <td id=\"T_88118_row5_col4\" class=\"data row5 col4\" >0.7646</td>\n",
       "                        <td id=\"T_88118_row5_col5\" class=\"data row5 col5\" >0.2334</td>\n",
       "                        <td id=\"T_88118_row5_col6\" class=\"data row5 col6\" >0.2003</td>\n",
       "                        <td id=\"T_88118_row5_col7\" class=\"data row5 col7\" >0.0140</td>\n",
       "            </tr>\n",
       "            <tr>\n",
       "                        <th id=\"T_88118_level0_row6\" class=\"row_heading level0 row6\" >lasso</th>\n",
       "                        <td id=\"T_88118_row6_col0\" class=\"data row6 col0\" >Lasso Regression</td>\n",
       "                        <td id=\"T_88118_row6_col1\" class=\"data row6 col1\" >12.2535</td>\n",
       "                        <td id=\"T_88118_row6_col2\" class=\"data row6 col2\" >232.6627</td>\n",
       "                        <td id=\"T_88118_row6_col3\" class=\"data row6 col3\" >15.0627</td>\n",
       "                        <td id=\"T_88118_row6_col4\" class=\"data row6 col4\" >0.7604</td>\n",
       "                        <td id=\"T_88118_row6_col5\" class=\"data row6 col5\" >0.2352</td>\n",
       "                        <td id=\"T_88118_row6_col6\" class=\"data row6 col6\" >0.1975</td>\n",
       "                        <td id=\"T_88118_row6_col7\" class=\"data row6 col7\" >0.0130</td>\n",
       "            </tr>\n",
       "            <tr>\n",
       "                        <th id=\"T_88118_level0_row7\" class=\"row_heading level0 row7\" >ridge</th>\n",
       "                        <td id=\"T_88118_row7_col0\" class=\"data row7 col0\" >Ridge Regression</td>\n",
       "                        <td id=\"T_88118_row7_col1\" class=\"data row7 col1\" >13.6326</td>\n",
       "                        <td id=\"T_88118_row7_col2\" class=\"data row7 col2\" >262.4990</td>\n",
       "                        <td id=\"T_88118_row7_col3\" class=\"data row7 col3\" >15.9660</td>\n",
       "                        <td id=\"T_88118_row7_col4\" class=\"data row7 col4\" >0.7268</td>\n",
       "                        <td id=\"T_88118_row7_col5\" class=\"data row7 col5\" >0.2470</td>\n",
       "                        <td id=\"T_88118_row7_col6\" class=\"data row7 col6\" >0.2220</td>\n",
       "                        <td id=\"T_88118_row7_col7\" class=\"data row7 col7\" >0.0140</td>\n",
       "            </tr>\n",
       "            <tr>\n",
       "                        <th id=\"T_88118_level0_row8\" class=\"row_heading level0 row8\" >br</th>\n",
       "                        <td id=\"T_88118_row8_col0\" class=\"data row8 col0\" >Bayesian Ridge</td>\n",
       "                        <td id=\"T_88118_row8_col1\" class=\"data row8 col1\" >13.8393</td>\n",
       "                        <td id=\"T_88118_row8_col2\" class=\"data row8 col2\" >273.5502</td>\n",
       "                        <td id=\"T_88118_row8_col3\" class=\"data row8 col3\" >16.1697</td>\n",
       "                        <td id=\"T_88118_row8_col4\" class=\"data row8 col4\" >0.7181</td>\n",
       "                        <td id=\"T_88118_row8_col5\" class=\"data row8 col5\" >0.2549</td>\n",
       "                        <td id=\"T_88118_row8_col6\" class=\"data row8 col6\" >0.2263</td>\n",
       "                        <td id=\"T_88118_row8_col7\" class=\"data row8 col7\" >0.0120</td>\n",
       "            </tr>\n",
       "            <tr>\n",
       "                        <th id=\"T_88118_level0_row9\" class=\"row_heading level0 row9\" >knn</th>\n",
       "                        <td id=\"T_88118_row9_col0\" class=\"data row9 col0\" >K Neighbors Regressor</td>\n",
       "                        <td id=\"T_88118_row9_col1\" class=\"data row9 col1\" >13.7471</td>\n",
       "                        <td id=\"T_88118_row9_col2\" class=\"data row9 col2\" >283.0473</td>\n",
       "                        <td id=\"T_88118_row9_col3\" class=\"data row9 col3\" >16.3140</td>\n",
       "                        <td id=\"T_88118_row9_col4\" class=\"data row9 col4\" >0.6984</td>\n",
       "                        <td id=\"T_88118_row9_col5\" class=\"data row9 col5\" >0.2613</td>\n",
       "                        <td id=\"T_88118_row9_col6\" class=\"data row9 col6\" >0.2375</td>\n",
       "                        <td id=\"T_88118_row9_col7\" class=\"data row9 col7\" >0.0250</td>\n",
       "            </tr>\n",
       "            <tr>\n",
       "                        <th id=\"T_88118_level0_row10\" class=\"row_heading level0 row10\" >par</th>\n",
       "                        <td id=\"T_88118_row10_col0\" class=\"data row10 col0\" >Passive Aggressive Regressor</td>\n",
       "                        <td id=\"T_88118_row10_col1\" class=\"data row10 col1\" >13.9399</td>\n",
       "                        <td id=\"T_88118_row10_col2\" class=\"data row10 col2\" >298.4108</td>\n",
       "                        <td id=\"T_88118_row10_col3\" class=\"data row10 col3\" >16.8781</td>\n",
       "                        <td id=\"T_88118_row10_col4\" class=\"data row10 col4\" >0.6887</td>\n",
       "                        <td id=\"T_88118_row10_col5\" class=\"data row10 col5\" >0.2659</td>\n",
       "                        <td id=\"T_88118_row10_col6\" class=\"data row10 col6\" >0.2244</td>\n",
       "                        <td id=\"T_88118_row10_col7\" class=\"data row10 col7\" >0.0120</td>\n",
       "            </tr>\n",
       "            <tr>\n",
       "                        <th id=\"T_88118_level0_row11\" class=\"row_heading level0 row11\" >llar</th>\n",
       "                        <td id=\"T_88118_row11_col0\" class=\"data row11 col0\" >Lasso Least Angle Regression</td>\n",
       "                        <td id=\"T_88118_row11_col1\" class=\"data row11 col1\" >14.4458</td>\n",
       "                        <td id=\"T_88118_row11_col2\" class=\"data row11 col2\" >312.4453</td>\n",
       "                        <td id=\"T_88118_row11_col3\" class=\"data row11 col3\" >17.5200</td>\n",
       "                        <td id=\"T_88118_row11_col4\" class=\"data row11 col4\" >0.6836</td>\n",
       "                        <td id=\"T_88118_row11_col5\" class=\"data row11 col5\" >0.2671</td>\n",
       "                        <td id=\"T_88118_row11_col6\" class=\"data row11 col6\" >0.2374</td>\n",
       "                        <td id=\"T_88118_row11_col7\" class=\"data row11 col7\" >0.0140</td>\n",
       "            </tr>\n",
       "            <tr>\n",
       "                        <th id=\"T_88118_level0_row12\" class=\"row_heading level0 row12\" >lightgbm</th>\n",
       "                        <td id=\"T_88118_row12_col0\" class=\"data row12 col0\" >Light Gradient Boosting Machine</td>\n",
       "                        <td id=\"T_88118_row12_col1\" class=\"data row12 col1\" >18.6309</td>\n",
       "                        <td id=\"T_88118_row12_col2\" class=\"data row12 col2\" >560.1717</td>\n",
       "                        <td id=\"T_88118_row12_col3\" class=\"data row12 col3\" >21.9855</td>\n",
       "                        <td id=\"T_88118_row12_col4\" class=\"data row12 col4\" >0.4130</td>\n",
       "                        <td id=\"T_88118_row12_col5\" class=\"data row12 col5\" >0.2976</td>\n",
       "                        <td id=\"T_88118_row12_col6\" class=\"data row12 col6\" >0.2899</td>\n",
       "                        <td id=\"T_88118_row12_col7\" class=\"data row12 col7\" >0.0160</td>\n",
       "            </tr>\n",
       "            <tr>\n",
       "                        <th id=\"T_88118_level0_row13\" class=\"row_heading level0 row13\" >en</th>\n",
       "                        <td id=\"T_88118_row13_col0\" class=\"data row13 col0\" >Elastic Net</td>\n",
       "                        <td id=\"T_88118_row13_col1\" class=\"data row13 col1\" >21.6074</td>\n",
       "                        <td id=\"T_88118_row13_col2\" class=\"data row13 col2\" >690.1590</td>\n",
       "                        <td id=\"T_88118_row13_col3\" class=\"data row13 col3\" >25.9523</td>\n",
       "                        <td id=\"T_88118_row13_col4\" class=\"data row13 col4\" >0.3178</td>\n",
       "                        <td id=\"T_88118_row13_col5\" class=\"data row13 col5\" >0.3550</td>\n",
       "                        <td id=\"T_88118_row13_col6\" class=\"data row13 col6\" >0.3459</td>\n",
       "                        <td id=\"T_88118_row13_col7\" class=\"data row13 col7\" >0.0130</td>\n",
       "            </tr>\n",
       "            <tr>\n",
       "                        <th id=\"T_88118_level0_row14\" class=\"row_heading level0 row14\" >lr</th>\n",
       "                        <td id=\"T_88118_row14_col0\" class=\"data row14 col0\" >Linear Regression</td>\n",
       "                        <td id=\"T_88118_row14_col1\" class=\"data row14 col1\" >21.0629</td>\n",
       "                        <td id=\"T_88118_row14_col2\" class=\"data row14 col2\" >2543.9131</td>\n",
       "                        <td id=\"T_88118_row14_col3\" class=\"data row14 col3\" >34.2294</td>\n",
       "                        <td id=\"T_88118_row14_col4\" class=\"data row14 col4\" >-1.2967</td>\n",
       "                        <td id=\"T_88118_row14_col5\" class=\"data row14 col5\" >0.3199</td>\n",
       "                        <td id=\"T_88118_row14_col6\" class=\"data row14 col6\" >0.3341</td>\n",
       "                        <td id=\"T_88118_row14_col7\" class=\"data row14 col7\" >0.0130</td>\n",
       "            </tr>\n",
       "            <tr>\n",
       "                        <th id=\"T_88118_level0_row15\" class=\"row_heading level0 row15\" >lar</th>\n",
       "                        <td id=\"T_88118_row15_col0\" class=\"data row15 col0\" >Least Angle Regression</td>\n",
       "                        <td id=\"T_88118_row15_col1\" class=\"data row15 col1\" >72408.6157</td>\n",
       "                        <td id=\"T_88118_row15_col2\" class=\"data row15 col2\" >59114557258.3178</td>\n",
       "                        <td id=\"T_88118_row15_col3\" class=\"data row15 col3\" >103089.9110</td>\n",
       "                        <td id=\"T_88118_row15_col4\" class=\"data row15 col4\" >-79576216.5171</td>\n",
       "                        <td id=\"T_88118_row15_col5\" class=\"data row15 col5\" >2.8871</td>\n",
       "                        <td id=\"T_88118_row15_col6\" class=\"data row15 col6\" >1158.0847</td>\n",
       "                        <td id=\"T_88118_row15_col7\" class=\"data row15 col7\" >0.0130</td>\n",
       "            </tr>\n",
       "    </tbody></table>"
      ],
      "text/plain": [
       "<pandas.io.formats.style.Styler at 0x296851e3388>"
      ]
     },
     "metadata": {},
     "output_type": "display_data"
    }
   ],
   "source": []
  },
  {
   "cell_type": "markdown",
   "metadata": {},
   "source": [
    "### Annual Cross validation "
   ]
  },
  {
   "cell_type": "code",
   "execution_count": 527,
   "metadata": {},
   "outputs": [],
   "source": [
    "def ts_cv(df, val_year=2020, model_type='rf'):\n",
    "    #val_year = 2020\n",
    "    df_train = df[df.time.dt.year !=val_year]\n",
    "    #df_train = df_train[df_train.n > 200]\n",
    "    df_train = (df_train[DATA_COLS + [TARGET]]).dropna()\n",
    "    #df_val = df_filt[df.time.dt.year ==val_year]\n",
    "    df_val = df[df.time.dt.year ==val_year].dropna()\n",
    "    experiment = setup(df_train, target=TARGET, \n",
    "                       remove_multicollinearity=True, \n",
    "                       fold_strategy='timeseries', \n",
    "                       date_features=['time'],\n",
    "                       transformation=False,\n",
    "                       remove_outliers=False, \n",
    "                       silent=True,\n",
    "                       normalize=False,\n",
    "                       pca=False,\n",
    "                       verbose=False)\n",
    "    model = create_model(model_type,verbose=False, cross_validation=False)\n",
    "    trained = predict_model(model, data=df_train)\n",
    "    predicted = predict_model(model, data=df_val)\n",
    "    return predicted"
   ]
  },
  {
   "cell_type": "code",
   "execution_count": 526,
   "metadata": {},
   "outputs": [
    {
     "data": {
      "application/vnd.jupyter.widget-view+json": {
       "model_id": "967ec06db8bc4415b51eae1b2ce109d4",
       "version_major": 2,
       "version_minor": 0
      },
      "text/plain": [
       "  0%|          | 0/3 [00:00<?, ?it/s]"
      ]
     },
     "metadata": {},
     "output_type": "display_data"
    },
    {
     "name": "stdout",
     "output_type": "stream",
     "text": [
      "RMSE val: 15.48210591519646\n"
     ]
    }
   ],
   "source": [
    "df_cleaned = (df[DATA_COLS + [TARGET]]).dropna()\n",
    "predictions = []\n",
    "for val_year in tqdm.tqdm_notebook([2018, 2019, 2020]):\n",
    "    predictions.append(ts_cv(df, val_year=val_year, model_type='rf'))\n",
    "final_prediction = pd.concat(predictions)\n",
    "print('RMSE val:', metrics.mean_squared_error(final_prediction[TARGET], final_prediction['Label'])**0.5)"
   ]
  },
  {
   "cell_type": "markdown",
   "metadata": {},
   "source": [
    "### Plot  "
   ]
  },
  {
   "cell_type": "markdown",
   "metadata": {},
   "source": [
    "True cross-validated results\n",
    "- fold 1: train 2018, 2019 - val 2020\n",
    "- fold 2: train 2018, 2020 - val 2019\n",
    "- fold 3: train 2019, 2020 - val 2018\n",
    "\n",
    "**Label**: predicted value\n",
    "\n",
    "**a254**: ground-truth/in-situ measurements"
   ]
  },
  {
   "cell_type": "code",
   "execution_count": 528,
   "metadata": {},
   "outputs": [
    {
     "data": {
      "image/png": "[encoded data removed]",
      "text/plain": [
       "<Figure size 1080x576 with 6 Axes>"
      ]
     },
     "metadata": {},
     "output_type": "display_data"
    }
   ],
   "source": [
    "fig, ax = plt.subplots(figsize=(15,8), nrows=3, ncols=2)\n",
    "# upper\n",
    "r = 0\n",
    "year = 2018\n",
    "for year in [2018, 2019, 2020]:\n",
    "    ix = final_prediction.time.dt.year == year\n",
    "    df_melt = pd.melt(final_prediction.loc[ix], value_vars=['Label', TARGET], value_name='cdom', id_vars='time')\n",
    "    sns.lineplot(data=df_melt, x='time', y='cdom', hue='variable', ax=ax[r, 0])\n",
    "    #ax[r,0].set_title(f'Measured vs modelled: {TARGET}')\n",
    "    ax[r, 0].set_xlim([datetime.date(year, 5, 20), datetime.date(year, 10, 15)])\n",
    "    ax[r, 1].set_xlim([datetime.date(year, 5, 20), datetime.date(year, 10, 15)])\n",
    "\n",
    "    #lower\n",
    "    final_prediction['residuals'] = final_prediction['Label'] - final_prediction[TARGET]\n",
    "    sns.lineplot(data=final_prediction.loc[ix], x='time', y='residuals', ax = ax[r,1])\n",
    "    ax[r, 1].axhline(0, c='k', alpha=.5)\n",
    "    \n",
    "    r+=1"
   ]
  },
  {
   "cell_type": "code",
   "execution_count": 468,
   "metadata": {},
   "outputs": [
    {
     "data": {
      "image/png": "[encoded data removed]",
      "text/plain": [
       "<Figure size 576x396 with 1 Axes>"
      ]
     },
     "metadata": {},
     "output_type": "display_data"
    }
   ],
   "source": [
    "p = plt.scatter(predicted[TARGET], predicted.Label)"
   ]
  },
  {
   "cell_type": "markdown",
   "metadata": {},
   "source": [
    "### Save final model "
   ]
  },
  {
   "cell_type": "code",
   "execution_count": 535,
   "metadata": {},
   "outputs": [],
   "source": [
    "df_train = (df[DATA_COLS + [TARGET]]).dropna()\n",
    "experiment = setup(df_train, target=TARGET, \n",
    "                   remove_multicollinearity=True, \n",
    "                   fold_strategy='timeseries', \n",
    "                   date_features=['time'],\n",
    "                   transformation=False,\n",
    "                   remove_outliers=False, \n",
    "                   silent=True,\n",
    "                   normalize=False,\n",
    "                   pca=False,\n",
    "                   verbose=False)\n",
    "model = create_model('rf', verbose=False, cross_validation=False)\n",
    "model_final = finalize_model(model)"
   ]
  },
  {
   "cell_type": "code",
   "execution_count": 536,
   "metadata": {},
   "outputs": [
    {
     "name": "stdout",
     "output_type": "stream",
     "text": [
      "Transformation Pipeline and Model Succesfully Saved\n"
     ]
    },
    {
     "data": {
      "text/plain": [
       "(Pipeline(memory=None,\n",
       "          steps=[('dtypes',\n",
       "                  DataTypes_Auto_infer(categorical_features=[],\n",
       "                                       display_types=False, features_todrop=[],\n",
       "                                       id_columns=[], ml_usecase='regression',\n",
       "                                       numerical_features=[], target='a254',\n",
       "                                       time_features=['time'])),\n",
       "                 ('imputer',\n",
       "                  Simple_Imputer(categorical_strategy='not_available',\n",
       "                                 fill_value_categorical=None,\n",
       "                                 fill_value_numerical=None,\n",
       "                                 numeric_stra...\n",
       "                  RandomForestRegressor(bootstrap=True, ccp_alpha=0.0,\n",
       "                                        criterion='mse', max_depth=None,\n",
       "                                        max_features='auto', max_leaf_nodes=None,\n",
       "                                        max_samples=None,\n",
       "                                        min_impurity_decrease=0.0,\n",
       "                                        min_impurity_split=None,\n",
       "                                        min_samples_leaf=1, min_samples_split=2,\n",
       "                                        min_weight_fraction_leaf=0.0,\n",
       "                                        n_estimators=100, n_jobs=-1,\n",
       "                                        oob_score=False, random_state=6545,\n",
       "                                        verbose=0, warm_start=False)]],\n",
       "          verbose=False),\n",
       " 'models/a254_2021-03-11.pkl')"
      ]
     },
     "execution_count": 536,
     "metadata": {},
     "output_type": "execute_result"
    }
   ],
   "source": [
    "save_model(model_final, MODEL_PATH)"
   ]
  },
  {
   "cell_type": "code",
   "execution_count": null,
   "metadata": {},
   "outputs": [],
   "source": []
  }
 ],
 "metadata": {
  "kernelspec": {
   "display_name": "Python 3",
   "language": "python",
   "name": "python3"
  },
  "language_info": {
   "codemirror_mode": {
    "name": "ipython",
    "version": 3
   },
   "file_extension": ".py",
   "mimetype": "text/x-python",
   "name": "python",
   "nbconvert_exporter": "python",
   "pygments_lexer": "ipython3",
   "version": "3.7.10"
  }
 },
 "nbformat": 4,
 "nbformat_minor": 4
}
